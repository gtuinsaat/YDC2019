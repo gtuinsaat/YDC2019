{
 "cells": [
  {
   "cell_type": "markdown",
   "metadata": {},
   "source": [
    "# YAPI DİNAMİĞİ ÇALIŞTAYI 2019\n",
    "### İZMİR YÜKSEK TEKNOLOJİ ENSTİTÜSÜ 9-19 EYLÜL 2019\n",
    "#### Hazırlayan : Ahmet Anıl Dindar (adindar@gtu.edu.tr)\n",
    "\n",
    "---"
   ]
  },
  {
   "cell_type": "markdown",
   "metadata": {},
   "source": [
    "__Amaç:__ \n",
    "\n",
    "Mühendislik eğitiminde problemlerin çözümünde algoritma kurma ve dolayısıyla bilgisayar programlama önemlidir. Çözümlemelerde programlama, hem geniş bir görüş açısı hem de kısa zamanda çok farklı parametrelerin hespaplamalarda dikkate alınmasına imkan sağlamaktadır. Geçmişten günümüze farklı bilgisayar program dilleri mühendislik eğitiminde yer almıştır. Günümüzde _Python_ kodlama dili, genellikle, tercih edilmektedir. \n",
    "\n",
    "__Neden *Python*?__ \n",
    "\n",
    "Python programalama dili 1990'lu yılların başında kolay okuma ve yazma hedefiyle oluşturulmuş bir derleme dilidir. Yazım tekniği açısından bir çok dilden ayrılmaktadır. Ancak, esas potansiyeli, kolay öğrenme süreci ve buna dayanarak açık kaynak/erişim yaklaşımıyla destek veren çok geniş bir küresel kitlenin varlığıdır. Python, esnek ve açık kaynaklı bir dildir. Destek veren araştırma grupları, geliştirdikleri algoritmaları açık kaynak olarak paylaşmaktadır. Bundan dolayı, farklı zamanlarda ihtiyaç duyulan fonksiyonlar, açık erişim sağlanan ortamlarda çoğunlukla yer almaktadır. Yer almasa bile geliştirilmesi, diğer dillere görece, az zaman almaktadır. \n",
    "\n",
    "\n",
    "__*Python* Nasıl Kullanılacak?__\n",
    "\n",
    "Python, C ve benzeri diğer dillerden farklı olarak derleyici gerektirmeyen bir dildir. Kodların yazılmasının ardından, çalıştırmak için ayrıca bir işlem gerektirmez. \n",
    "\n",
    "Python programı aslında Python kernel üzerine eklenmiş modüllerden oluşmaktadır. Modüllerin eklenmesi için conda, pip, wheel gibi açık erişimli depolardan faydalanılmaktadır. \n",
    "\n",
    "Açık kaynak kavramına destek veren firmalar, Python kernel ve ortak kullanımı popüler olan modülleri içinde barındıran paketleri web üzerinden ücretsiz erişime sunmaktadır. Bu paketler arasında Anaconda, Enthought en popüler olanlarıdır. Python kernel 35MB boyutundayken, modüllerin yer aldığı paketler 500-600MB boyutlarındadır. \n",
    "\n",
    "Python editörleri çok çeşitlidir. Aslında çok basit bir kelime işlemci de dahi kod yazılmaktadır (örneğin Notepad). Ancak, yazım kurallarının hatırlatılması, değişkenlerin görsel algısı ve benzer sebeplerle niteliği arttırılmış editörler de kullanmak mümkündür. Bir açıdan programlamaya ilk başlayanların kullanıcı kolaylığı sebebiyle tercih edeceği nitelikli editör kullanımı, tecrübenin artmasıyla Notepad'in kullanımına doğru dönmektedir.Nitelikli editörler arasında Anaconda'nın içinde yer alan Spyder, akademi için ücretsiz olan PyCharm ve Microsoft'un ücretsiz sunduğu Visual Studio Code örnek olara belirtilebilir. Programlamaya Matlab ile başlamış olanlar için genelde Spyder editörü, benzer görselliği sebebiyle daha yakın gelmektedir. *Yapı Dinamiği Çalıştay*'larında katılımcıların bilgisayarlarında *Spyder* programı tercih edilecektir. \n",
    "\n",
    "Bütün bunların ötesinde, Python programlama dilinin kullanımını sağlayan bir çok web servisi bulunmaktadır. Açık kaynak kodlu yazılımların bir araya getirildiği Jupyter yazılımı, web sunucu üzerinde barındırıldığında, uzak kaynaklarda saklanan ve çalıştırılan programlar yazma imkanı vermektedir. \n",
    "\n",
    "Bu servislerden bir tanesi, bu defterin yer alduğu Microsoft Azure'da barındırılan Jupyter programıdır. Görüldüğü üzere, web üzerinden servis edilen Jupyter editör aracılığıyla Python kodlamayı çalıştırmak mümkündür. \n",
    "\n",
    "__Programlama Dersi Hangi Bölümlerden Oluşmaktadır__\n",
    "\n",
    "Bu ders üç bölümden oluşmaktadır:\n",
    "\n",
    "- __01. Python Dilinin Temelleri :__ Değişkenler (Liste, sözlük, demet), değişkenlerde erişim ve indeksleme, modüllerin tanıtımı (Numpy, Scipy, math vb.), görselleştirmeye giriş (matplotlib).\n",
    "- __02. Python'da İşlemler:__ Döngü, karar verme, matematik, fonksiyonlar, fonksiyoneller, matris, istatistik\n",
    "- __03. Python'da Veri Okuma/Yazma :__ , Dosya türleri (ASCII, Binary), dosyadan veri okuma, dosyaya veri yazma. \n",
    "\n",
    "---\n",
    "\n",
    "*PS: Bunların dışında bilinmesi gereken bir başka konu algoritmanın çıkartılmasıdır. Algoritmaları oluştururken mutlak suretle bir çizim aracının kullanılması gereklidir. GTU-İnşaat Mühendisliği'nde bunun için <a href=\"http://draw.io/\" target=\"_blank\">DrawIO</a> sitesini önermekteyiz. Web tabanlı olan DrawIO ücretsiz olup son derece pratiktir. Lütfen sizler de DrawIO sitesini kullanım pratiğinizi geliştiriniz.*\n",
    "\n",
    "---"
   ]
  },
  {
   "cell_type": "code",
   "execution_count": null,
   "metadata": {},
   "outputs": [],
   "source": []
  }
 ],
 "metadata": {
  "kernelspec": {
   "display_name": "Python 3",
   "language": "python",
   "name": "python3"
  },
  "language_info": {
   "codemirror_mode": {
    "name": "ipython",
    "version": 3
   },
   "file_extension": ".py",
   "mimetype": "text/x-python",
   "name": "python",
   "nbconvert_exporter": "python",
   "pygments_lexer": "ipython3",
   "version": "3.7.1"
  }
 },
 "nbformat": 4,
 "nbformat_minor": 2
}
