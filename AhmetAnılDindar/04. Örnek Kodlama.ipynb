{
 "cells": [
  {
   "cell_type": "markdown",
   "metadata": {},
   "source": [
    "# YAPI DİNAMİĞİ ÇALIŞTAYI 2019\n",
    "### İZMİR YÜKSEK TEKNOLOJİ ENSTİTÜSÜ 9-19 EYLÜL 2019\n",
    "#### Hazırlayan : Ahmet Anıl Dindar (adindar@gtu.edu.tr)\n",
    "\n",
    "---"
   ]
  },
  {
   "cell_type": "markdown",
   "metadata": {},
   "source": [
    "## __04. Python'da Örnek Kodlama :__ \n",
    "\n",
    "Verilerin okunması, işleme alınması ve ardından saklanması bu örnek çalışmanın amacıdır. "
   ]
  },
  {
   "cell_type": "markdown",
   "metadata": {},
   "source": [
    "## Problem\n",
    "\n",
    "Türkiye kuvvetli yer hareketi verilerinin sürekli işlenmesi istenmektedir. Bu amaçla, yeni araştırmacı olarak sizden AFAD'ın web sitesinden indirilen bir ivme kaydı dosyasında aşağıdaki işlemlerin fonksiyon olarak hazırlanması beklenmektedir;\n",
    "\n",
    "**1- Çalışma klasöründe hazır bulunan AFAD ivme dosyasının okutulması,**\n",
    "\n",
    "_İvme kaydını http://kyhdata.deprem.gov.tr adresinden indirebilirsiniz_\n",
    "\n",
    "_İvme dosyasını okutmak için open, numpy veya pandas kullanabilirsiniz_\n",
    "\n",
    "**2- İvme değerlerinin hız ve yerdeğiştirme zaman serilerine çevrilmesi,**\n",
    "\n",
    "_Sayısal integrasyon için Trapezoidal Integration kullanabilirsiniz_\n",
    "\n",
    "**3- Yerdeğiştirme, hız ve ivme zaman serilerinin görselleştirilmesi,**\n",
    "\n",
    "_Görselleştirme için matplotlib.pyplot kullanınız ve sonuçları pdf ve png formatında saklayınız._\n",
    "\n",
    "**4- Yerdeğiştirme, hız ve ivme zaman serilerinin CSV dosyası olarak çalışma klasöründe saklanması,**\n",
    "\n",
    "_Verileri CSV (virgüller ayrılmış değerler) dosyası olarak saklamak için with open, numpy veya pandas kullanabilirsiniz._\n",
    "\n",
    "**5- Deprem süresinin belirlenmesi**\n",
    "\n",
    "_Etkin süre hesabı için Arias Şiddetinin %5 ve % 95 değerlerinin arasındaki süreyi kullanınız_\n",
    "\n",
    "<img src=\"https://www.researchgate.net/profile/Andre_Barbosa7/publication/320767450/figure/fig1/AS:734589198802946@1552151121927/Relation-between-arias-intensity-I-a-and-significant-duration-D-5-75-of-one-ground-motion_W640.jpg\">\n",
    "\n",
    "DOI: 10.1016/j.engstruct.2017.08.042\n",
    "\n",
    "_Arias Şiddeti Formulü_\n",
    "\n",
    "$ I_A = \\frac{\\pi}{2g} \\int_{0}^{T} a(t)^2 dt$\n",
    "\n",
    "\n",
    "\n"
   ]
  },
  {
   "cell_type": "markdown",
   "metadata": {},
   "source": [
    "---\n",
    "**1 - Çalışma klasöründe hazır bulunan AFAD ivme dosyasının okutulması**"
   ]
  },
  {
   "cell_type": "code",
   "execution_count": 1,
   "metadata": {},
   "outputs": [],
   "source": [
    "import pandas as pd"
   ]
  },
  {
   "cell_type": "code",
   "execution_count": 4,
   "metadata": {},
   "outputs": [],
   "source": [
    "veri = pd.read_csv( \"20190808112530_2005.txt\" , skiprows=17 , delim_whitespace = True )"
   ]
  },
  {
   "cell_type": "code",
   "execution_count": 5,
   "metadata": {},
   "outputs": [
    {
     "data": {
      "text/html": [
       "<div>\n",
       "<style scoped>\n",
       "    .dataframe tbody tr th:only-of-type {\n",
       "        vertical-align: middle;\n",
       "    }\n",
       "\n",
       "    .dataframe tbody tr th {\n",
       "        vertical-align: top;\n",
       "    }\n",
       "\n",
       "    .dataframe thead th {\n",
       "        text-align: right;\n",
       "    }\n",
       "</style>\n",
       "<table border=\"1\" class=\"dataframe\">\n",
       "  <thead>\n",
       "    <tr style=\"text-align: right;\">\n",
       "      <th></th>\n",
       "      <th>N-S</th>\n",
       "      <th>E-W</th>\n",
       "      <th>U-D</th>\n",
       "    </tr>\n",
       "  </thead>\n",
       "  <tbody>\n",
       "    <tr>\n",
       "      <th>count</th>\n",
       "      <td>3776.000000</td>\n",
       "      <td>3776.000000</td>\n",
       "      <td>3776.000000</td>\n",
       "    </tr>\n",
       "    <tr>\n",
       "      <th>mean</th>\n",
       "      <td>-0.000099</td>\n",
       "      <td>0.000138</td>\n",
       "      <td>0.000041</td>\n",
       "    </tr>\n",
       "    <tr>\n",
       "      <th>std</th>\n",
       "      <td>37.754893</td>\n",
       "      <td>34.594432</td>\n",
       "      <td>28.362328</td>\n",
       "    </tr>\n",
       "    <tr>\n",
       "      <th>min</th>\n",
       "      <td>-423.363542</td>\n",
       "      <td>-251.011036</td>\n",
       "      <td>-199.671036</td>\n",
       "    </tr>\n",
       "    <tr>\n",
       "      <th>25%</th>\n",
       "      <td>-3.200060</td>\n",
       "      <td>-3.289328</td>\n",
       "      <td>-1.875078</td>\n",
       "    </tr>\n",
       "    <tr>\n",
       "      <th>50%</th>\n",
       "      <td>0.008836</td>\n",
       "      <td>-0.012084</td>\n",
       "      <td>-0.004028</td>\n",
       "    </tr>\n",
       "    <tr>\n",
       "      <th>75%</th>\n",
       "      <td>3.190575</td>\n",
       "      <td>3.336431</td>\n",
       "      <td>1.783016</td>\n",
       "    </tr>\n",
       "    <tr>\n",
       "      <th>max</th>\n",
       "      <td>363.552071</td>\n",
       "      <td>274.004174</td>\n",
       "      <td>347.534292</td>\n",
       "    </tr>\n",
       "  </tbody>\n",
       "</table>\n",
       "</div>"
      ],
      "text/plain": [
       "               N-S          E-W          U-D\n",
       "count  3776.000000  3776.000000  3776.000000\n",
       "mean     -0.000099     0.000138     0.000041\n",
       "std      37.754893    34.594432    28.362328\n",
       "min    -423.363542  -251.011036  -199.671036\n",
       "25%      -3.200060    -3.289328    -1.875078\n",
       "50%       0.008836    -0.012084    -0.004028\n",
       "75%       3.190575     3.336431     1.783016\n",
       "max     363.552071   274.004174   347.534292"
      ]
     },
     "execution_count": 5,
     "metadata": {},
     "output_type": "execute_result"
    }
   ],
   "source": [
    "veri.describe()"
   ]
  },
  {
   "cell_type": "code",
   "execution_count": 6,
   "metadata": {},
   "outputs": [
    {
     "data": {
      "text/plain": [
       "0   -0.002859\n",
       "1    0.001040\n",
       "2   -0.005198\n",
       "3    0.016372\n",
       "4    0.007017\n",
       "Name: N-S, dtype: float64"
      ]
     },
     "execution_count": 6,
     "metadata": {},
     "output_type": "execute_result"
    }
   ],
   "source": [
    "veri[\"N-S\"][:5]"
   ]
  },
  {
   "cell_type": "markdown",
   "metadata": {},
   "source": [
    "---\n",
    "**2 -  İvme değerlerinin hız ve yerdeğiştirme zaman serilerine çevrilmesi**"
   ]
  },
  {
   "cell_type": "code",
   "execution_count": 8,
   "metadata": {},
   "outputs": [],
   "source": [
    "import numpy as np"
   ]
  },
  {
   "cell_type": "code",
   "execution_count": 9,
   "metadata": {},
   "outputs": [],
   "source": [
    "NS_ivme=veri[\"N-S\"][:]"
   ]
  },
  {
   "cell_type": "code",
   "execution_count": 11,
   "metadata": {},
   "outputs": [
    {
     "data": {
      "text/plain": [
       "array([-1.94900000e-03, -2.14400000e-03,  6.30175000e-03, ...,\n",
       "        4.29623084e+04,  4.29617975e+04,  4.29612488e+04])"
      ]
     },
     "execution_count": 11,
     "metadata": {},
     "output_type": "execute_result"
    }
   ],
   "source": [
    "from scipy import integrate\n",
    "NS_hiz=integrate.cumtrapz(NS_ivme)\n",
    "NS_deplasman=integrate.cumtrapz(NS_hiz)\n",
    "NS_hiz\n",
    "NS_deplasman"
   ]
  },
  {
   "cell_type": "code",
   "execution_count": 13,
   "metadata": {},
   "outputs": [
    {
     "data": {
      "text/plain": [
       "[<matplotlib.lines.Line2D at 0x7f119088ada0>]"
      ]
     },
     "execution_count": 13,
     "metadata": {},
     "output_type": "execute_result"
    },
    {
     "data": {
      "image/png": "[encoded data removed]",
      "text/plain": [
       "<Figure size 432x288 with 1 Axes>"
      ]
     },
     "metadata": {
      "needs_background": "light"
     },
     "output_type": "display_data"
    }
   ],
   "source": [
    "import matplotlib.pyplot as plt\n",
    "plt.plot(NS_ivme)"
   ]
  },
  {
   "cell_type": "code",
   "execution_count": 14,
   "metadata": {},
   "outputs": [
    {
     "data": {
      "text/plain": [
       "[<matplotlib.lines.Line2D at 0x7f1190809978>]"
      ]
     },
     "execution_count": 14,
     "metadata": {},
     "output_type": "execute_result"
    },
    {
     "data": {
      "image/png": "[encoded data removed]",
      "text/plain": [
       "<Figure size 432x288 with 1 Axes>"
      ]
     },
     "metadata": {
      "needs_background": "light"
     },
     "output_type": "display_data"
    }
   ],
   "source": [
    "plt.plot(NS_hiz)"
   ]
  },
  {
   "cell_type": "markdown",
   "metadata": {},
   "source": [
    "---\n",
    "\n",
    "_AAD: Programlamada örnek kodlama dersinin sonu_\n",
    "\n",
    "---"
   ]
  },
  {
   "cell_type": "code",
   "execution_count": 18,
   "metadata": {},
   "outputs": [
    {
     "data": {
      "image/png": "[encoded data removed]",
      "text/plain": [
       "<Figure size 432x288 with 1 Axes>"
      ]
     },
     "metadata": {
      "needs_background": "light"
     },
     "output_type": "display_data"
    }
   ],
   "source": [
    "plt.plot(NS_deplasman)\n",
    "plt.title(\"deplasman\")\n",
    "\n",
    "plt.savefig(\"furkan.jpg\" )"
   ]
  },
  {
   "cell_type": "code",
   "execution_count": null,
   "metadata": {},
   "outputs": [],
   "source": []
  }
 ],
 "metadata": {
  "kernelspec": {
   "display_name": "Python 3",
   "language": "python",
   "name": "python3"
  },
  "language_info": {
   "codemirror_mode": {
    "name": "ipython",
    "version": 3
   },
   "file_extension": ".py",
   "mimetype": "text/x-python",
   "name": "python",
   "nbconvert_exporter": "python",
   "pygments_lexer": "ipython3",
   "version": "3.6.8"
  }
 },
 "nbformat": 4,
 "nbformat_minor": 4
}
