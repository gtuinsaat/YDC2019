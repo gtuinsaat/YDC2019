{
 "cells": [
  {
   "cell_type": "markdown",
   "metadata": {},
   "source": [
    "# ÇOK SERBESTLİK DERECELİ BİR KAYMA ÇERÇEVESİNİN YER HAREKETİ ALTINDAKİ TEPKİSİ"
   ]
  },
  {
   "cell_type": "markdown",
   "metadata": {},
   "source": [
    "Örnek olarak dört serbestlik dereceli bir sistem kullanılacak. Sistemin kütle be rijitlik matrislerini yükleyelim"
   ]
  },
  {
   "cell_type": "code",
   "execution_count": 3,
   "metadata": {},
   "outputs": [],
   "source": [
    "import math\n",
    "import numpy as np\n",
    "import matplotlib.pyplot as plt\n",
    "from newmark_function import newmark\n",
    "\n",
    "#%%Sistemin tanımlanması\n",
    "k=48e6\n",
    "m=30000\n",
    "\n",
    "M=m*np.array([[1,0, 0, 0],\n",
    "            [0, 1, 0, 0],\n",
    "            [0, 0, 1, 0],\n",
    "            [0, 0, 0, 1]])\n",
    "dof=M.shape[0]\n",
    "\n",
    "K=np.array([[2*k,-k, 0, 0],\n",
    "            [-k, 2*k, -k, 0],\n",
    "            [0, -k, 2*k, k],\n",
    "            [0, 0, -k, k]])"
   ]
  },
  {
   "cell_type": "markdown",
   "metadata": {},
   "source": [
    "Özdeğer analizi ile tanımlanan sistemin özdeğerlerini ve özdeğer vektörlerini tanımlayalım"
   ]
  },
  {
   "cell_type": "code",
   "execution_count": 4,
   "metadata": {},
   "outputs": [
    {
     "data": {
      "text/plain": [
       "([0.45229277608884433,\n",
       "  0.15707963267948966,\n",
       "  0.1025264487527213,\n",
       "  0.0835803268030969],\n",
       " array([[-2.28013429e-01,  5.77350269e-01,  6.56538502e-01,\n",
       "         -4.28525073e-01],\n",
       "        [-4.28525073e-01,  5.77350269e-01, -2.28013429e-01,\n",
       "          6.56538502e-01],\n",
       "        [-5.77350269e-01, -2.24795076e-17, -5.77350269e-01,\n",
       "         -5.77350269e-01],\n",
       "        [-6.56538502e-01, -5.77350269e-01,  4.28525073e-01,\n",
       "          2.28013429e-01]]))"
      ]
     },
     "execution_count": 4,
     "metadata": {},
     "output_type": "execute_result"
    }
   ],
   "source": [
    "#%% Özdeğerlerin ve özdeğermatrislerinin hesaplanması\n",
    "As = np.dot( np.linalg.inv(M) , K)\n",
    "\n",
    "V,D = np.linalg.eigh(As) #Eigenvectors and eigenvalues\n",
    "\n",
    "w = [np.sqrt(item) for item in V]\n",
    "T = [2*np.pi/item for item in w]\n",
    "T, D\n"
   ]
  },
  {
   "cell_type": "markdown",
   "metadata": {},
   "source": [
    "Modların modal katkı faktörlerini hesaplayalım"
   ]
  },
  {
   "cell_type": "code",
   "execution_count": 5,
   "metadata": {},
   "outputs": [],
   "source": [
    "M=np.dot((np.dot(D,M)),(np.transpose(D)))\n",
    "\n",
    "T_D=np.transpose(D)\n",
    "L = np.zeros( dof )\n",
    "\n",
    "for  xx , norm_deger in enumerate(D[dof-1 , :]):\n",
    "    A1=np.dot(T_D[xx,:],M)\n",
    "    L[xx]=np.dot(A1,np.ones(dof))/M[xx,xx]"
   ]
  },
  {
   "cell_type": "code",
   "execution_count": 6,
   "metadata": {},
   "outputs": [
    {
     "data": {
      "text/plain": [
       "array([-1.89042727,  0.57735027,  0.27969988, -0.12132341])"
      ]
     },
     "execution_count": 6,
     "metadata": {},
     "output_type": "execute_result"
    }
   ],
   "source": [
    "L"
   ]
  },
  {
   "cell_type": "markdown",
   "metadata": {},
   "source": [
    "- Yer hareketini yükleyelim\n",
    "- Başlangıç öteleme ve hız değerlerini 0,0 alalım\n",
    "- Her bir moddaki sönüm oranının 0.05 olduğunu kabul edelim\n",
    "- Yapının her bir moda ait m,c,k değerleri ile Newmark fonksiyonunu çağıralım ve o modlara ait öteleme,\n",
    "hız ve ivme serilerini elde edelim"
   ]
  },
  {
   "cell_type": "code",
   "execution_count": 7,
   "metadata": {},
   "outputs": [
    {
     "data": {
      "image/png": "[encoded data removed]",
      "text/plain": [
       "<Figure size 432x288 with 1 Axes>"
      ]
     },
     "metadata": {
      "needs_background": "light"
     },
     "output_type": "display_data"
    }
   ],
   "source": [
    "#%% Newmark Uygulaması\n",
    "g_txt=np.loadtxt('ElCentroErsin.txt') #Units in g\n",
    "sn=len(g_txt)\n",
    "gmotion=g_txt[:,1]\n",
    "len_gmotion=gmotion.shape[0]\n",
    "start_t = 0;\n",
    "dt = 0.02; #sec\n",
    "end_t = (sn-1)*dt;\n",
    "t=np.arange(0,(sn*dt),dt)\n",
    "plt.plot(t,gmotion) #Yer hareketinin doğru alınıp alınmadığının kontrolü amacıyla çizdirilmesi\n",
    "\n",
    "x0 = 0; #Başlangıç yerdeğiştirme ve hızı\n",
    "v0 = 0;\n",
    "\n",
    "beta = 1/4;\n",
    "gamma = 1/2;\n",
    "\n",
    "\n",
    "x = np.zeros((len_gmotion,dof))\n",
    "v = np.zeros((len_gmotion,dof))\n",
    "a = np.zeros((len_gmotion,dof))\n",
    "pi = math.pi;\n",
    "\n",
    "for i in range(dof):\n",
    "    \n",
    "    m = 1; # kg\n",
    "    Tsingle = T[i]; # sec\n",
    "    f = 1/Tsingle;  # Hz\n",
    "    w = 2*pi*f; # rad/sec\n",
    "    k = m*w**2; # N/m\n",
    "    eps = 0.05;  # damping ratio\n",
    "    c= 2*eps*w*m;  # N.sec/m\n",
    "    \n",
    "    scale=1/np.amax(gmotion)\n",
    "    p_exc = -m*scale*gmotion*9.806;\n",
    "\n",
    "    x[:,i], v[:,i], a[:,i] = newmark(m, c, k, dt, p_exc, beta, gamma, x0, v0);\n",
    "    "
   ]
  },
  {
   "cell_type": "markdown",
   "metadata": {},
   "source": [
    "- Elde ettiğimiz değerlere neye karşılık geliyor?\n",
    "- Modların fiziksel sistemdeki öteleme değerlerine katkılarını bulmak için ne yapmak gerekiyor?\n",
    "- Sisteme örneğin birinci mod fiziksel katkısını gösteren t anındaki değerlerin bir vektör olması ne anlama geliyor?\n",
    "- Sistemin toplam tepkisini nasıl elde edilir?\n",
    "- Uygulamanın sonunda sistemin öteleme, hız ve ivme serilerini bulmak hedeflenmektedir.\n",
    "- Ayrıca bu serilerin en büyük değerlerini bulup, bu büyüklüğün oluştuğu t anının modal katkıların en büyük değere ulaştığı anla aynı olup olmadığının da kontrol edilmesi gerekiyor.\n",
    "- Başarılar\n"
   ]
  },
  {
   "cell_type": "code",
   "execution_count": null,
   "metadata": {},
   "outputs": [],
   "source": []
  }
 ],
 "metadata": {
  "kernelspec": {
   "display_name": "Python 3",
   "language": "python",
   "name": "python3"
  },
  "language_info": {
   "codemirror_mode": {
    "name": "ipython",
    "version": 3
   },
   "file_extension": ".py",
   "mimetype": "text/x-python",
   "name": "python",
   "nbconvert_exporter": "python",
   "pygments_lexer": "ipython3",
   "version": "3.7.3"
  }
 },
 "nbformat": 4,
 "nbformat_minor": 2
}
