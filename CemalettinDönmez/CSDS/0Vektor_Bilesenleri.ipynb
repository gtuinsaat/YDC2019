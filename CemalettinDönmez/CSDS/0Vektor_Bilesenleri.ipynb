{
 "cells": [
  {
   "cell_type": "markdown",
   "metadata": {},
   "source": [
    "# BİR VEKTÖRÜ ÖZEL TABAN VEKTÖRLERİ KULLANARAK BİRLEŞENLERİNE AYIRMAK"
   ]
  },
  {
   "cell_type": "markdown",
   "metadata": {},
   "source": [
    "Bu uygulamada bir vektörü sistem özdeğer vekörlerini kullanarak birleşenlerine ayıracağız. Böylesi bir işlemin yapılabilmesi için özdeğer vektörleri kullanılan sistemin serbestlik derecesi ile parçalanacak olan vektörün boyutunun aynı olması gerekir."
   ]
  },
  {
   "cell_type": "code",
   "execution_count": 4,
   "metadata": {},
   "outputs": [
    {
     "data": {
      "text/plain": [
       "array([1, 1, 0])"
      ]
     },
     "execution_count": 4,
     "metadata": {},
     "output_type": "execute_result"
    }
   ],
   "source": [
    "#Parçalanacak olan vektör\n",
    "import numpy as np\n",
    "u=np.array([1,1,0])\n",
    "u"
   ]
  },
  {
   "cell_type": "code",
   "execution_count": 3,
   "metadata": {},
   "outputs": [
    {
     "data": {
      "text/plain": [
       "array([1, 1, 0])"
      ]
     },
     "execution_count": 3,
     "metadata": {},
     "output_type": "execute_result"
    }
   ],
   "source": [
    "u"
   ]
  },
  {
   "cell_type": "markdown",
   "metadata": {},
   "source": [
    "\n",
    "Şimdi parçalamada kullanacağımız özdeğer vektörlere sahip olan sistemi tanımlayalım"
   ]
  },
  {
   "cell_type": "code",
   "execution_count": 9,
   "metadata": {},
   "outputs": [],
   "source": [
    "k=48e6\n",
    "m=30000\n",
    "\n",
    "M=np.array([[m, 0, 0],\n",
    "            [0, m, 0],\n",
    "            [0, 0, m]])\n",
    "\n",
    "dof=M.shape[0] \n",
    "\n",
    "K=np.array([[2*k,-k, 0],\n",
    "            [-k, 2*k, -k],\n",
    "            [0, -k, k]])"
   ]
  },
  {
   "cell_type": "code",
   "execution_count": 10,
   "metadata": {},
   "outputs": [
    {
     "data": {
      "text/plain": [
       "array([[ 96000000., -48000000.,         0.],\n",
       "       [-48000000.,  96000000., -48000000.],\n",
       "       [        0., -48000000.,  48000000.]])"
      ]
     },
     "execution_count": 10,
     "metadata": {},
     "output_type": "execute_result"
    }
   ],
   "source": [
    "K"
   ]
  },
  {
   "cell_type": "code",
   "execution_count": 11,
   "metadata": {},
   "outputs": [
    {
     "data": {
      "text/plain": [
       "array([[30000,     0,     0],\n",
       "       [    0, 30000,     0],\n",
       "       [    0,     0, 30000]])"
      ]
     },
     "execution_count": 11,
     "metadata": {},
     "output_type": "execute_result"
    }
   ],
   "source": [
    "M"
   ]
  },
  {
   "cell_type": "markdown",
   "metadata": {},
   "source": [
    "Sistemin özdeğer vektörlerini ve özdeğerlerini hesaplayalım. BU uygulamada kullanılmayacak olmakla beraber\n",
    "sistem özdeğerlerinin bizim sistemim frekanslarımızın kareleri olduğunu hatırlatalım."
   ]
  },
  {
   "cell_type": "code",
   "execution_count": 13,
   "metadata": {},
   "outputs": [],
   "source": [
    "As = np.dot( np.linalg.inv(M) , K)\n",
    "\n",
    "V,D = np.linalg.eigh(As) #Özdeğerler ve özdeğer vektörleri\n",
    "\n",
    "w = [np.sqrt(item) for item in V] #Sistemin frekansları\n",
    "T = [2*np.pi/item for item in w]  #Sistemin periyotları"
   ]
  },
  {
   "cell_type": "code",
   "execution_count": 14,
   "metadata": {},
   "outputs": [
    {
     "data": {
      "text/plain": [
       "array([ 316.89962271, 2487.93301134, 5195.16736595])"
      ]
     },
     "execution_count": 14,
     "metadata": {},
     "output_type": "execute_result"
    }
   ],
   "source": [
    "V"
   ]
  },
  {
   "cell_type": "code",
   "execution_count": 15,
   "metadata": {},
   "outputs": [
    {
     "data": {
      "text/plain": [
       "array([[-0.32798528,  0.73697623, -0.59100905],\n",
       "       [-0.59100905,  0.32798528,  0.73697623],\n",
       "       [-0.73697623, -0.59100905, -0.32798528]])"
      ]
     },
     "execution_count": 15,
     "metadata": {},
     "output_type": "execute_result"
    }
   ],
   "source": [
    "D"
   ]
  },
  {
   "cell_type": "code",
   "execution_count": 16,
   "metadata": {},
   "outputs": [
    {
     "data": {
      "text/plain": [
       "[17.80167471650516, 49.879184148698684, 72.07750943219354]"
      ]
     },
     "execution_count": 16,
     "metadata": {},
     "output_type": "execute_result"
    }
   ],
   "source": [
    "w"
   ]
  },
  {
   "cell_type": "code",
   "execution_count": 17,
   "metadata": {},
   "outputs": [
    {
     "data": {
      "text/plain": [
       "[0.35295473079024475, 0.12596808497204562, 0.08717261954077996]"
      ]
     },
     "execution_count": 17,
     "metadata": {},
     "output_type": "execute_result"
    }
   ],
   "source": [
    "T"
   ]
  },
  {
   "cell_type": "code",
   "execution_count": 20,
   "metadata": {},
   "outputs": [],
   "source": [
    "L = np.zeros( dof )\n",
    "up = np.zeros((dof,dof))\n",
    "ur = np.zeros(dof)\n",
    "T_D=np.transpose(D)\n",
    "PMP=np.dot(np.dot(T_D,M),D)"
   ]
  },
  {
   "cell_type": "markdown",
   "metadata": {},
   "source": [
    "BU BASAMAKTA VEKTÖRÜ BİLEŞENLERİNE AYIRINIZ, up"
   ]
  },
  {
   "cell_type": "markdown",
   "metadata": {},
   "source": [
    "BİRLEŞENLERİN TOPLAMININ ORJİNAL VEKTÖRE KARŞILIK GELİĞ GELMEDİĞİNİ KONTROL EDİNİZ, ur"
   ]
  },
  {
   "cell_type": "code",
   "execution_count": 26,
   "metadata": {},
   "outputs": [
    {
     "data": {
      "text/plain": [
       "array([[ 0.30141661,  0.78485132, -0.08626792],\n",
       "       [ 0.54313396,  0.3492917 ,  0.10757434],\n",
       "       [ 0.67727697, -0.62940189, -0.04787509]])"
      ]
     },
     "execution_count": 26,
     "metadata": {},
     "output_type": "execute_result"
    }
   ],
   "source": [
    "up"
   ]
  },
  {
   "cell_type": "markdown",
   "metadata": {},
   "source": [
    "Kontrol amacıyla bileşenleri birleştirdiğimizde aynı vektöre ulaşmamız lazım"
   ]
  },
  {
   "cell_type": "code",
   "execution_count": 27,
   "metadata": {},
   "outputs": [
    {
     "data": {
      "text/plain": [
       "array([1.00000000e+00, 1.00000000e+00, 3.46944695e-17])"
      ]
     },
     "execution_count": 27,
     "metadata": {},
     "output_type": "execute_result"
    }
   ],
   "source": [
    "ur"
   ]
  }
 ],
 "metadata": {
  "kernelspec": {
   "display_name": "Python 3",
   "language": "python",
   "name": "python3"
  },
  "language_info": {
   "codemirror_mode": {
    "name": "ipython",
    "version": 3
   },
   "file_extension": ".py",
   "mimetype": "text/x-python",
   "name": "python",
   "nbconvert_exporter": "python",
   "pygments_lexer": "ipython3",
   "version": "3.7.3"
  }
 },
 "nbformat": 4,
 "nbformat_minor": 2
}
