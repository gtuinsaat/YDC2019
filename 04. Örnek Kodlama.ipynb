{
 "cells": [
  {
   "cell_type": "markdown",
   "metadata": {},
   "source": [
    "# YAPI DİNAMİĞİ ÇALIŞTAYI 2019\n",
    "### İZMİR YÜKSEK TEKNOLOJİ ENSTİTÜSÜ 9-19 EYLÜL 2019\n",
    "#### Hazırlayan : Ahmet Anıl Dindar (adindar@gtu.edu.tr)\n",
    "\n",
    "---"
   ]
  },
  {
   "cell_type": "markdown",
   "metadata": {},
   "source": [
    "## __04. Python'da Örnek Kodlama :__ \n",
    "\n",
    "Verilerin okunması, işleme alınması ve ardından saklanması bu örnek çalışmanın amacıdır. "
   ]
  },
  {
   "cell_type": "markdown",
   "metadata": {},
   "source": [
    "## Problem\n",
    "\n",
    "Türkiye kuvvetli yer hareketi verilerinin sürekli işlenmesi istenmektedir. Bu amaçla, yeni araştırmacı olarak sizden AFAD'ın web sitesinden indirilen bir ivme kaydı dosyasında aşağıdaki işlemlerin fonksiyon olarak hazırlanması beklenmektedir;\n",
    "\n",
    "**1- Çalışma klasöründe hazır bulunan AFAD ivme dosyasının okutulması,**\n",
    "\n",
    "_İvme kaydını http://kyhdata.deprem.gov.tr adresinden indirebilirsiniz_\n",
    "\n",
    "_İvme dosyasını okutmak için open, numpy veya pandas kullanabilirsiniz_\n",
    "\n",
    "**2- İvme değerlerinin hız ve yerdeğiştirme zaman serilerine çevrilmesi,**\n",
    "\n",
    "_Sayısal integrasyon için Trapezoidal Integration kullanabilirsiniz_\n",
    "\n",
    "**3- Yerdeğiştirme, hız ve ivme zaman serilerinin görselleştirilmesi,**\n",
    "\n",
    "_Görselleştirme için matplotlib.pyplot kullanınız ve sonuçları pdf ve png formatında saklayınız._\n",
    "\n",
    "**4- Yerdeğiştirme, hız ve ivme zaman serilerinin CSV dosyası olarak çalışma klasöründe saklanması,**\n",
    "\n",
    "_Verileri CSV (virgüller ayrılmış değerler) dosyası olarak saklamak için with open, numpy veya pandas kullanabilirsiniz._\n",
    "\n",
    "**5- Deprem süresinin belirlenmesi**\n",
    "\n",
    "_Etkin süre hesabı için Arias Şiddetinin %5 ve % 95 değerlerinin arasındaki süreyi kullanınız_\n",
    "\n",
    "<img src=\"https://www.researchgate.net/profile/Andre_Barbosa7/publication/320767450/figure/fig1/AS:734589198802946@1552151121927/Relation-between-arias-intensity-I-a-and-significant-duration-D-5-75-of-one-ground-motion_W640.jpg\">\n",
    "\n",
    "DOI: 10.1016/j.engstruct.2017.08.042\n",
    "\n",
    "_Arias Şiddeti Formulü_\n",
    "\n",
    "$ I_A = \\frac{\\pi}{2g} \\int_{0}^{T} a(t)^2 dt$\n",
    "\n",
    "\n",
    "\n"
   ]
  },
  {
   "cell_type": "code",
   "execution_count": null,
   "metadata": {},
   "outputs": [],
   "source": []
  },
  {
   "cell_type": "markdown",
   "metadata": {},
   "source": [
    "---\n",
    "\n",
    "_AAD: Programlamada örnek kodlama dersinin sonu_\n",
    "\n",
    "---"
   ]
  },
  {
   "cell_type": "code",
   "execution_count": null,
   "metadata": {},
   "outputs": [],
   "source": []
  }
 ],
 "metadata": {
  "kernelspec": {
   "display_name": "Python 3",
   "language": "python",
   "name": "python3"
  },
  "language_info": {
   "codemirror_mode": {
    "name": "ipython",
    "version": 3
   },
   "file_extension": ".py",
   "mimetype": "text/x-python",
   "name": "python",
   "nbconvert_exporter": "python",
   "pygments_lexer": "ipython3",
   "version": "3.7.1"
  }
 },
 "nbformat": 4,
 "nbformat_minor": 2
}
