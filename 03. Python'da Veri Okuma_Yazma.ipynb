{
 "cells": [
  {
   "cell_type": "markdown",
   "metadata": {},
   "source": [
    "# YAPI DİNAMİĞİ ÇALIŞTAYI 2019\n",
    "### İZMİR YÜKSEK TEKNOLOJİ ENSTİTÜSÜ 9-19 EYLÜL 2019\n",
    "#### Hazırlayan : Ahmet Anıl Dindar (adindar@gtu.edu.tr)\n",
    "\n",
    "---"
   ]
  },
  {
   "cell_type": "markdown",
   "metadata": {},
   "source": [
    "## __03. Python'da Veri Okuma/Yazma :__ \n",
    "\n",
    "Bilimsel çalışmalarda üretilen veya kullanılacak verinin saklanması, paylaşılması için okuma/yazma işlemleri gereklidir."
   ]
  },
  {
   "cell_type": "markdown",
   "metadata": {},
   "source": [
    "### __03.1- ASCII :__ \n",
    "\n",
    "İnsanların okuyabileceği formatta hazırlanmış dosyalardır."
   ]
  },
  {
   "cell_type": "markdown",
   "metadata": {},
   "source": [
    "### __03.2- BINARY :__ \n",
    "\n",
    "Bilgisayaların okuyabileceği formatta hazırlanmış dosyalardır."
   ]
  },
  {
   "cell_type": "markdown",
   "metadata": {},
   "source": [
    "### __03.3- OPEN :__ \n",
    "\n",
    "Her iki dosya türünü de okuma/yazma istersek, en pratik yol \"open\" komutudur. "
   ]
  },
  {
   "cell_type": "markdown",
   "metadata": {},
   "source": [
    "### 03.3.1- Okuma\n",
    "\n",
    "Okuma amacıyla kullanılır. "
   ]
  },
  {
   "cell_type": "markdown",
   "metadata": {},
   "source": [
    "- ASCII okuma"
   ]
  },
  {
   "cell_type": "code",
   "execution_count": 11,
   "metadata": {},
   "outputs": [],
   "source": [
    "dosya = open( \"acc01_4063e0_20190801_0600e.txt\",  \"r\")"
   ]
  },
  {
   "cell_type": "code",
   "execution_count": 12,
   "metadata": {},
   "outputs": [],
   "source": [
    "icerik = dosya.readlines()"
   ]
  },
  {
   "cell_type": "code",
   "execution_count": 13,
   "metadata": {},
   "outputs": [
    {
     "data": {
      "text/plain": [
       "list"
      ]
     },
     "execution_count": 13,
     "metadata": {},
     "output_type": "execute_result"
    }
   ],
   "source": [
    "type(icerik)"
   ]
  },
  {
   "cell_type": "code",
   "execution_count": 14,
   "metadata": {},
   "outputs": [
    {
     "data": {
      "text/plain": [
       "['_ACC01  4063E0  2019 08 01 06 00 00  200\\n',\n",
       " '       2325\\n',\n",
       " '       2299\\n',\n",
       " '       2256\\n',\n",
       " '       2220\\n']"
      ]
     },
     "execution_count": 14,
     "metadata": {},
     "output_type": "execute_result"
    }
   ],
   "source": [
    "icerik[:5]"
   ]
  },
  {
   "cell_type": "code",
   "execution_count": 16,
   "metadata": {},
   "outputs": [],
   "source": [
    "dosya.close()"
   ]
  },
  {
   "cell_type": "markdown",
   "metadata": {},
   "source": [
    "- Bu dosya üzerinde işlem yapınız, örneğin yazı tipindeki elemanları integer formatında işlem yapılabilir hale getiriniz."
   ]
  },
  {
   "cell_type": "code",
   "execution_count": null,
   "metadata": {},
   "outputs": [],
   "source": []
  },
  {
   "cell_type": "markdown",
   "metadata": {},
   "source": [
    "- BINARY okuma"
   ]
  },
  {
   "cell_type": "code",
   "execution_count": 17,
   "metadata": {},
   "outputs": [],
   "source": [
    "dosya = open( \"acc01_4063e0_20190801_0600e.gcf\",  \"rb\")"
   ]
  },
  {
   "cell_type": "code",
   "execution_count": 18,
   "metadata": {},
   "outputs": [],
   "source": [
    "icerik = dosya.readlines()"
   ]
  },
  {
   "cell_type": "code",
   "execution_count": 19,
   "metadata": {},
   "outputs": [
    {
     "data": {
      "text/plain": [
       "list"
      ]
     },
     "execution_count": 19,
     "metadata": {},
     "output_type": "execute_result"
    }
   ],
   "source": [
    "type(icerik)"
   ]
  },
  {
   "cell_type": "code",
   "execution_count": 20,
   "metadata": {},
   "outputs": [
    {
     "data": {
      "text/plain": [
       "[b'\\x85\\t\\x11\\xc1\\x0en\\xe6\\xa8T\\xc2T`v\\xc8\\x02\\xc8\\x00\\x00\\t\\x15\\x00\\x00\\xff\\xe6\\xff\\xd5\\xff\\xdc\\x00d\\xff\\xed\\xff\\x9d\\x00 \\x004\\x00\"\\xff\\x9a\\x00H\\x00\\x07\\xff\\xdf\\xff\\xdb\\x005\\x00E\\xff\\xba\\xff\\xea\\xff\\xef\\x00\\x07\\xff\\xf4\\x00\\x13\\x00L\\xff\\xcb\\xff\\xcd\\x00)\\x00.\\xff\\xde\\xff\\xdb\\x00%\\xff\\xfe\\xff\\xfa\\xff\\xfa\\x00\\r\\xff\\xfa\\xff\\xe8\\xff\\xfd\\x00!\\x00\\x16\\xff\\xeb\\xff\\xea\\x00\\x06\\xff\\xed\\x00\\t\\x00\\x13\\x00\\x07\\x00\\x11\\x00\\x06\\xff\\xd7\\xff\\xe2\\x00#\\x00\\x1d\\x00\\x0c\\xff\\xc0\\x00\\x1f\\x00$\\xff\\xdd\\xff\\xb7\\x00\"\\x00X\\xff\\xc6\\xff\\xde\\x00&\\x00\\x1e\\xff\\xe0\\xff\\xf9\\x00#\\xff\\xfb\\xff\\xd1\\xff\\xea\\x00)\\x000\\xff\\xfa\\xff\\xbd\\x00&\\x00\\x17\\xff\\xc8\\xff\\xea\\x00K\\x00 \\xff\\xac\\xff\\xff\\x004\\xff\\xf6\\xff\\xc5\\x00\\x1a\\x00F\\xff\\xc6\\x00\\x05\\xff\\xff\\xff\\xe8\\x00\\'\\x00\\x15\\x00*\\xff\\xa4\\xff\\xd5\\x00\\n',\n",
       " b'\\x003\\x00\\x07\\xff\\xf8\\x00\\x1d\\xff\\xfd\\xff\\x9a\\x00\\'\\x00,\\x00\\x0c\\x00\\x10\\xff\\xf3\\xff\\xe2\\xff\\xfe\\x00.\\xff\\xb9\\xff\\xe5\\x00D\\x007\\xff\\xc4\\xff\\xff\\x00@\\xff\\xcd\\xff\\xb3\\xff\\xfd\\x00<\\x00\\'\\xff\\xd8\\x00\\x0b\\x00\"\\x00\\x02\\xff\\xaf\\xff\\xfe\\x005\\x00\"\\xff\\xb4\\x00\\'\\xff\\xf7\\x00\\x1a\\xff\\xd7\\x009\\xff\\xb8\\x00\\x07\\xff\\xb8\\x00\\x9e\\x00A\\xff}\\xff\\xcc\\x00\\x16\\x00f\\xff\\x8e\\x00\"\\x00%\\x00\\xc3\\xff\\x0e\\xff\\xa3\\x00\\x1c\\x00I\\xff\\xfe\\x00\"\\xff\\xec\\x00\\r\\xff\\xd8\\x00\\n',\n",
       " b'\\x005\\xff\\xf1\\xff\\xf2\\xff\\xd2\\x00y\\xff\\xb9\\xff\\xf7\\xff\\xdc\\x00\\x88\\xff\\x80\\xff\\xf9\\x00\\t\\x00\\x8b\\xff\\xfc\\xffI\\x00\\x06\\xff\\xf6\\x00*\\x00%\\xff\\xe3\\x00\\x10\\xff\\xf8\\x00\\x11\\x00\\x1e\\x00\\x17\\x00\\x16\\xff\\x9e\\xff\\xf5\\x000\\x007\\xff\\xc5\\xff\\xf6\\xff\\xe6\\x00\\x12\\xff\\xf1\\x00\\t\\x00$\\x00\\x06\\x00\\x15\\xff\\xbf\\xff\\xd1\\x00G\\xff\\xe8\\x00\\x17\\xff\\xf5\\x00+\\x00\\x18\\xff\\xa6\\x00\\x02\\x00\\x11\\x00\\x14\\x00\\x1a\\xff\\xfc\\xff\\xf9\\xff\\xed\\xff\\xd7\\x00\\n',\n",
       " b'\\x00\\t\\x00\\x1b\\xff\\xf3\\x00\\x08\\x00\\x10\\x00\\x19\\xff\\xc4\\x00\\x08\\x00\\t\\xff\\xe7\\x00\\x12\\x00\\x01\\x00(\\xff\\xce\\x00\\x03\\x00\"\\xff\\xf2\\xff\\xd6\\x00\\x16\\x00 \\xff\\xef\\xff\\xe9\\x00,\\xff\\xf1\\xff\\xda\\x00\\x18\\xff\\xfd\\x00\\x11\\xff\\xfb\\x00\\x13\\xff\\xec\\xff\\xef\\x00\\x18\\xff\\xfe\\xff\\xe9\\x00\\x05\\x00\\x07\\x00\\x07\\x00\\x00\\xff\\xf7\\x00\\x0f\\x00\\x0c\\xff\\xdb\\x00\\x02\\x00\\x12\\x00\\n',\n",
       " b'\\xff\\xf4\\xff\\xf4\\x00\\x03\\xff\\xf7\\x00\\x06\\x00\\x15\\x00\\x07\\xff\\xe6\\xff\\xf0\\x00\\x14\\x00\\n']"
      ]
     },
     "execution_count": 20,
     "metadata": {},
     "output_type": "execute_result"
    }
   ],
   "source": [
    "icerik[:5]"
   ]
  },
  {
   "cell_type": "code",
   "execution_count": 21,
   "metadata": {},
   "outputs": [],
   "source": [
    "dosya.close()"
   ]
  },
  {
   "cell_type": "markdown",
   "metadata": {},
   "source": [
    "- ASCII okuma ve işlem yapma"
   ]
  },
  {
   "cell_type": "code",
   "execution_count": null,
   "metadata": {},
   "outputs": [],
   "source": [
    "with open( \"acc01_4063e0_20190801_0600e.txt\",  \"r\") as dosya :\n",
    "    \n",
    "    for satir in dosya.readlines():\n",
    "        \n",
    "        print(satir)"
   ]
  },
  {
   "cell_type": "markdown",
   "metadata": {},
   "source": [
    "### 03.3.2- Yazma\n",
    "\n",
    "Verileri dosyaya yazma amacıyla kullanılır. "
   ]
  },
  {
   "cell_type": "code",
   "execution_count": 25,
   "metadata": {},
   "outputs": [
    {
     "name": "stdout",
     "output_type": "stream",
     "text": [
      "[-0.2965819842880848, -0.749426059303648, 0.9950813354208898, -1.4715336106756207, 0.5340299308182604, -0.33909302640759315, -0.2371604389560698, 0.0842704040092735, -0.8376988516454047, 0.453560320832434]\n"
     ]
    }
   ],
   "source": [
    "import numpy as np\n",
    "listem = [ np.random.randn() for item in range(10)]\n",
    "\n",
    "print( listem )\n"
   ]
  },
  {
   "cell_type": "code",
   "execution_count": 27,
   "metadata": {},
   "outputs": [],
   "source": [
    "with open(\"yeni bir dosya yaziyorum.txt\" , \"w\") as dosya:\n",
    "    for satir in listem:\n",
    "        dosya.write( str( satir ) + \"\\n\")\n",
    "        "
   ]
  },
  {
   "cell_type": "markdown",
   "metadata": {},
   "source": [
    "- Veya daha kontrollü olması için zengin yazı kullanılır"
   ]
  },
  {
   "cell_type": "code",
   "execution_count": 32,
   "metadata": {},
   "outputs": [],
   "source": [
    "with open(\"yeni bir dosya yaziyorum 2.txt\" , \"w\") as dosya:\n",
    "    for satir in listem:\n",
    "        dosya.write( f\"{satir} , {satir*2} \\n\")\n",
    "        "
   ]
  },
  {
   "cell_type": "markdown",
   "metadata": {},
   "source": [
    "- Peki bu \\n ifadesini yazmazsak ne olur?"
   ]
  },
  {
   "cell_type": "code",
   "execution_count": null,
   "metadata": {},
   "outputs": [],
   "source": []
  },
  {
   "cell_type": "markdown",
   "metadata": {},
   "source": [
    "### __03.4- NUMPY :__ \n",
    "\n",
    "Belli bir yapısı bulunan verileri nasıl okur/yazarız\n",
    "\n",
    "Bunun kolay yolu pek tabi ki Numpy paketidir."
   ]
  },
  {
   "cell_type": "markdown",
   "metadata": {},
   "source": [
    "#### 03.4.1- Okuma"
   ]
  },
  {
   "cell_type": "code",
   "execution_count": 34,
   "metadata": {},
   "outputs": [
    {
     "data": {
      "text/plain": [
       "numpy.ndarray"
      ]
     },
     "execution_count": 34,
     "metadata": {},
     "output_type": "execute_result"
    }
   ],
   "source": [
    "import numpy as np\n",
    "\n",
    "verilerim = np.loadtxt( \"yeni bir dosya yaziyorum.txt\" )\n",
    "\n",
    "type(verilerim)"
   ]
  },
  {
   "cell_type": "code",
   "execution_count": 35,
   "metadata": {},
   "outputs": [
    {
     "data": {
      "text/plain": [
       "array([-0.29658198, -0.74942606,  0.99508134, -1.47153361,  0.53402993,\n",
       "       -0.33909303, -0.23716044,  0.0842704 , -0.83769885,  0.45356032])"
      ]
     },
     "execution_count": 35,
     "metadata": {},
     "output_type": "execute_result"
    }
   ],
   "source": [
    "verilerim"
   ]
  },
  {
   "cell_type": "code",
   "execution_count": 40,
   "metadata": {},
   "outputs": [
    {
     "data": {
      "text/plain": [
       "numpy.ndarray"
      ]
     },
     "execution_count": 40,
     "metadata": {},
     "output_type": "execute_result"
    }
   ],
   "source": [
    "import numpy as np\n",
    "\n",
    "verilerim_2 = np.loadtxt( \"yeni bir dosya yaziyorum 2.txt\" , delimiter = \",\")\n",
    "\n",
    "type(verilerim_2)"
   ]
  },
  {
   "cell_type": "code",
   "execution_count": 39,
   "metadata": {},
   "outputs": [
    {
     "data": {
      "text/plain": [
       "array([[-0.29658198, -0.59316397],\n",
       "       [-0.74942606, -1.49885212],\n",
       "       [ 0.99508134,  1.99016267],\n",
       "       [-1.47153361, -2.94306722],\n",
       "       [ 0.53402993,  1.06805986],\n",
       "       [-0.33909303, -0.67818605],\n",
       "       [-0.23716044, -0.47432088],\n",
       "       [ 0.0842704 ,  0.16854081],\n",
       "       [-0.83769885, -1.6753977 ],\n",
       "       [ 0.45356032,  0.90712064]])"
      ]
     },
     "execution_count": 39,
     "metadata": {},
     "output_type": "execute_result"
    }
   ],
   "source": [
    "verilerim_2"
   ]
  },
  {
   "cell_type": "markdown",
   "metadata": {},
   "source": [
    "- Peki text dosyasında bir başlık varsa? Örneğin ivme kaydı dosyası"
   ]
  },
  {
   "cell_type": "code",
   "execution_count": null,
   "metadata": {},
   "outputs": [],
   "source": []
  },
  {
   "cell_type": "markdown",
   "metadata": {},
   "source": [
    "#### 03.4.2- Yazma"
   ]
  },
  {
   "cell_type": "code",
   "execution_count": 44,
   "metadata": {},
   "outputs": [],
   "source": [
    "listem =  [ np.random.randn() for item in range(10)] \n",
    "\n",
    "np.savetxt ( \"veri yazma.csv\", [ listem ] , delimiter=\",\")\n"
   ]
  },
  {
   "cell_type": "markdown",
   "metadata": {},
   "source": [
    "- Peki delimiter farklı bir şey olabilir mi, mesela tab?"
   ]
  },
  {
   "cell_type": "code",
   "execution_count": null,
   "metadata": {},
   "outputs": [],
   "source": []
  },
  {
   "cell_type": "markdown",
   "metadata": {},
   "source": [
    "- Peki birden fazla liste yazılmak istenirse?"
   ]
  },
  {
   "cell_type": "code",
   "execution_count": 46,
   "metadata": {},
   "outputs": [
    {
     "ename": "SyntaxError",
     "evalue": "invalid syntax (<ipython-input-46-777a8dc2c570>, line 3)",
     "output_type": "error",
     "traceback": [
      "\u001b[0;36m  File \u001b[0;32m\"<ipython-input-46-777a8dc2c570>\"\u001b[0;36m, line \u001b[0;32m3\u001b[0m\n\u001b[0;31m    np.savetxt ( \"veri yazma 2.csv\",  ??????? , delimiter=\",\")\u001b[0m\n\u001b[0m                                      ^\u001b[0m\n\u001b[0;31mSyntaxError\u001b[0m\u001b[0;31m:\u001b[0m invalid syntax\n"
     ]
    }
   ],
   "source": [
    "listem =  [ np.random.randn() for item in range(10)] \n",
    "\n",
    "np.savetxt ( \"veri yazma 2.csv\",  ??????? , delimiter=\",\")\n"
   ]
  },
  {
   "cell_type": "markdown",
   "metadata": {},
   "source": [
    "### __03.5- Pandas:__\n",
    "\n",
    "Pandas çok güçlü bir veri okuma aracıdır. Çok mucizeler yaratır. Veri tabanı yapısına benzer bir yapısı vardır. "
   ]
  },
  {
   "cell_type": "markdown",
   "metadata": {},
   "source": [
    "#### 03.5.1- Okuma\n",
    "\n",
    "Pandas, binary, ascii ve hatta sıkıştırılmış dosyaları dahi okur. \n",
    "\n",
    "İlk satırı başlık kabul eder. "
   ]
  },
  {
   "cell_type": "code",
   "execution_count": 48,
   "metadata": {},
   "outputs": [
    {
     "name": "stdout",
     "output_type": "stream",
     "text": [
      "<class 'pandas.core.frame.DataFrame'>\n"
     ]
    }
   ],
   "source": [
    "import pandas as pd\n",
    "\n",
    "veri_df = pd.read_csv( \"ilk pandas okuma.txt\")\n",
    "\n",
    "print( type( veri_df ))"
   ]
  },
  {
   "cell_type": "code",
   "execution_count": 49,
   "metadata": {},
   "outputs": [
    {
     "data": {
      "text/html": [
       "<div>\n",
       "<style scoped>\n",
       "    .dataframe tbody tr th:only-of-type {\n",
       "        vertical-align: middle;\n",
       "    }\n",
       "\n",
       "    .dataframe tbody tr th {\n",
       "        vertical-align: top;\n",
       "    }\n",
       "\n",
       "    .dataframe thead th {\n",
       "        text-align: right;\n",
       "    }\n",
       "</style>\n",
       "<table border=\"1\" class=\"dataframe\">\n",
       "  <thead>\n",
       "    <tr style=\"text-align: right;\">\n",
       "      <th></th>\n",
       "      <th>kolon1</th>\n",
       "      <th>kolon2</th>\n",
       "      <th>kolon3</th>\n",
       "    </tr>\n",
       "  </thead>\n",
       "  <tbody>\n",
       "    <tr>\n",
       "      <th>0</th>\n",
       "      <td>1</td>\n",
       "      <td>2</td>\n",
       "      <td>3</td>\n",
       "    </tr>\n",
       "    <tr>\n",
       "      <th>1</th>\n",
       "      <td>10</td>\n",
       "      <td>20</td>\n",
       "      <td>30</td>\n",
       "    </tr>\n",
       "    <tr>\n",
       "      <th>2</th>\n",
       "      <td>100</td>\n",
       "      <td>300</td>\n",
       "      <td>300</td>\n",
       "    </tr>\n",
       "  </tbody>\n",
       "</table>\n",
       "</div>"
      ],
      "text/plain": [
       "   kolon1  kolon2  kolon3\n",
       "0       1       2       3\n",
       "1      10      20      30\n",
       "2     100     300     300"
      ]
     },
     "execution_count": 49,
     "metadata": {},
     "output_type": "execute_result"
    }
   ],
   "source": [
    "veri_df"
   ]
  },
  {
   "cell_type": "markdown",
   "metadata": {},
   "source": [
    "- Şimdi biraz tembellik edelim"
   ]
  },
  {
   "cell_type": "code",
   "execution_count": 50,
   "metadata": {},
   "outputs": [
    {
     "data": {
      "text/html": [
       "<div>\n",
       "<style scoped>\n",
       "    .dataframe tbody tr th:only-of-type {\n",
       "        vertical-align: middle;\n",
       "    }\n",
       "\n",
       "    .dataframe tbody tr th {\n",
       "        vertical-align: top;\n",
       "    }\n",
       "\n",
       "    .dataframe thead th {\n",
       "        text-align: right;\n",
       "    }\n",
       "</style>\n",
       "<table border=\"1\" class=\"dataframe\">\n",
       "  <thead>\n",
       "    <tr style=\"text-align: right;\">\n",
       "      <th></th>\n",
       "      <th>kolon1</th>\n",
       "      <th>kolon2</th>\n",
       "      <th>kolon3</th>\n",
       "    </tr>\n",
       "  </thead>\n",
       "  <tbody>\n",
       "    <tr>\n",
       "      <th>count</th>\n",
       "      <td>3.000000</td>\n",
       "      <td>3.000000</td>\n",
       "      <td>3.000000</td>\n",
       "    </tr>\n",
       "    <tr>\n",
       "      <th>mean</th>\n",
       "      <td>37.000000</td>\n",
       "      <td>107.333333</td>\n",
       "      <td>111.000000</td>\n",
       "    </tr>\n",
       "    <tr>\n",
       "      <th>std</th>\n",
       "      <td>54.744863</td>\n",
       "      <td>167.096778</td>\n",
       "      <td>164.234588</td>\n",
       "    </tr>\n",
       "    <tr>\n",
       "      <th>min</th>\n",
       "      <td>1.000000</td>\n",
       "      <td>2.000000</td>\n",
       "      <td>3.000000</td>\n",
       "    </tr>\n",
       "    <tr>\n",
       "      <th>25%</th>\n",
       "      <td>5.500000</td>\n",
       "      <td>11.000000</td>\n",
       "      <td>16.500000</td>\n",
       "    </tr>\n",
       "    <tr>\n",
       "      <th>50%</th>\n",
       "      <td>10.000000</td>\n",
       "      <td>20.000000</td>\n",
       "      <td>30.000000</td>\n",
       "    </tr>\n",
       "    <tr>\n",
       "      <th>75%</th>\n",
       "      <td>55.000000</td>\n",
       "      <td>160.000000</td>\n",
       "      <td>165.000000</td>\n",
       "    </tr>\n",
       "    <tr>\n",
       "      <th>max</th>\n",
       "      <td>100.000000</td>\n",
       "      <td>300.000000</td>\n",
       "      <td>300.000000</td>\n",
       "    </tr>\n",
       "  </tbody>\n",
       "</table>\n",
       "</div>"
      ],
      "text/plain": [
       "           kolon1      kolon2      kolon3\n",
       "count    3.000000    3.000000    3.000000\n",
       "mean    37.000000  107.333333  111.000000\n",
       "std     54.744863  167.096778  164.234588\n",
       "min      1.000000    2.000000    3.000000\n",
       "25%      5.500000   11.000000   16.500000\n",
       "50%     10.000000   20.000000   30.000000\n",
       "75%     55.000000  160.000000  165.000000\n",
       "max    100.000000  300.000000  300.000000"
      ]
     },
     "execution_count": 50,
     "metadata": {},
     "output_type": "execute_result"
    }
   ],
   "source": [
    "veri_df.describe()"
   ]
  },
  {
   "cell_type": "markdown",
   "metadata": {},
   "source": [
    "- Peki başka özellikler"
   ]
  },
  {
   "cell_type": "code",
   "execution_count": null,
   "metadata": {},
   "outputs": [],
   "source": []
  },
  {
   "cell_type": "markdown",
   "metadata": {},
   "source": [
    "#### 03.5.2- Yazma\n",
    "\n",
    "Pandas, veri yazmada da mucizeler yaratır"
   ]
  },
  {
   "cell_type": "code",
   "execution_count": 54,
   "metadata": {},
   "outputs": [
    {
     "data": {
      "text/html": [
       "<div>\n",
       "<style scoped>\n",
       "    .dataframe tbody tr th:only-of-type {\n",
       "        vertical-align: middle;\n",
       "    }\n",
       "\n",
       "    .dataframe tbody tr th {\n",
       "        vertical-align: top;\n",
       "    }\n",
       "\n",
       "    .dataframe thead th {\n",
       "        text-align: right;\n",
       "    }\n",
       "</style>\n",
       "<table border=\"1\" class=\"dataframe\">\n",
       "  <thead>\n",
       "    <tr style=\"text-align: right;\">\n",
       "      <th></th>\n",
       "      <th>ilki</th>\n",
       "      <th>ikincisi</th>\n",
       "    </tr>\n",
       "  </thead>\n",
       "  <tbody>\n",
       "    <tr>\n",
       "      <th>0</th>\n",
       "      <td>1</td>\n",
       "      <td>10</td>\n",
       "    </tr>\n",
       "    <tr>\n",
       "      <th>1</th>\n",
       "      <td>2</td>\n",
       "      <td>20</td>\n",
       "    </tr>\n",
       "    <tr>\n",
       "      <th>2</th>\n",
       "      <td>3</td>\n",
       "      <td>30</td>\n",
       "    </tr>\n",
       "  </tbody>\n",
       "</table>\n",
       "</div>"
      ],
      "text/plain": [
       "   ilki  ikincisi\n",
       "0     1        10\n",
       "1     2        20\n",
       "2     3        30"
      ]
     },
     "execution_count": 54,
     "metadata": {},
     "output_type": "execute_result"
    }
   ],
   "source": [
    "sozluk_hatirla = {\"ilki\":[1,2,3] , \"ikincisi\":[10,20,30]}\n",
    "\n",
    "sozluk_df = pd.DataFrame( sozluk_hatirla)\n",
    "\n",
    "sozluk_df"
   ]
  },
  {
   "cell_type": "code",
   "execution_count": 55,
   "metadata": {},
   "outputs": [],
   "source": [
    "sozluk_df.to_csv(\"ikinci panda yazmam.txt\")"
   ]
  },
  {
   "cell_type": "markdown",
   "metadata": {},
   "source": [
    "### __03.6- Pickle:__\n",
    "\n",
    "Eğer üretilen veya okunan verileri yani değişkenleri daha sonra kullanmak üzere saklamak istiyorsanız \"turşu\" yapımı işinize yarayacaktır :)"
   ]
  },
  {
   "cell_type": "code",
   "execution_count": 68,
   "metadata": {},
   "outputs": [],
   "source": [
    "veri_1 = [1,11,21,31,41]\n",
    "veri_2 = [\"adem\", \"madem\" , \"badem\"]\n",
    "\n",
    "import pickle\n",
    "\n",
    "dosya_ismi = open(\"ilk tursu.pkl\" , \"wb\") \n",
    "pickle.dump((veri_1,veri_2) , dosya_ismi )\n",
    "dosya_ismi.close()"
   ]
  },
  {
   "cell_type": "code",
   "execution_count": 67,
   "metadata": {},
   "outputs": [],
   "source": [
    "d = open(\"ilk tursu.pkl\" , \"rb\")\n",
    "vv = pickle.load(d)\n",
    "d.close()"
   ]
  },
  {
   "cell_type": "code",
   "execution_count": 69,
   "metadata": {},
   "outputs": [
    {
     "data": {
      "text/plain": [
       "tuple"
      ]
     },
     "execution_count": 69,
     "metadata": {},
     "output_type": "execute_result"
    }
   ],
   "source": [
    "type(vv)"
   ]
  },
  {
   "cell_type": "code",
   "execution_count": 70,
   "metadata": {},
   "outputs": [
    {
     "data": {
      "text/plain": [
       "([1, 11, 21, 31, 41], ['adem', 'madem', 'badem'])"
      ]
     },
     "execution_count": 70,
     "metadata": {},
     "output_type": "execute_result"
    }
   ],
   "source": [
    "vv"
   ]
  },
  {
   "cell_type": "markdown",
   "metadata": {},
   "source": [
    "### __03.7- MAT dosyalarını okuma :__ "
   ]
  },
  {
   "cell_type": "code",
   "execution_count": 1,
   "metadata": {},
   "outputs": [],
   "source": [
    "import scipy.io\n",
    "mat = scipy.io.loadmat('IdResults.mat')"
   ]
  },
  {
   "cell_type": "code",
   "execution_count": 5,
   "metadata": {},
   "outputs": [
    {
     "data": {
      "text/plain": [
       "dict"
      ]
     },
     "execution_count": 5,
     "metadata": {},
     "output_type": "execute_result"
    }
   ],
   "source": [
    "type(mat)"
   ]
  },
  {
   "cell_type": "code",
   "execution_count": 6,
   "metadata": {},
   "outputs": [
    {
     "data": {
      "text/plain": [
       "dict_keys(['__header__', '__version__', '__globals__', 'phi', 'Frequencies', 'Fp', 's1'])"
      ]
     },
     "execution_count": 6,
     "metadata": {},
     "output_type": "execute_result"
    }
   ],
   "source": [
    "mat.keys()"
   ]
  },
  {
   "cell_type": "code",
   "execution_count": 4,
   "metadata": {},
   "outputs": [
    {
     "data": {
      "text/plain": [
       "array([[-5.42955901e-02+3.71605993e-17j, -3.40551166e-02+1.52704986e-17j],\n",
       "       [-6.71222944e-02+7.13290493e-03j, -4.37361927e-02+3.39666292e-03j],\n",
       "       [-5.25653547e-03-7.48580828e-03j,  5.12664765e-02-7.09038612e-04j],\n",
       "       [ 1.93585913e-02+7.84105453e-03j,  1.60026217e-03-3.24258784e-04j],\n",
       "       [-4.04083446e-01+2.18546219e-01j, -2.45882596e-01-2.31662766e-01j],\n",
       "       [-4.03383389e-01+2.03065196e-01j, -1.45179030e-01-4.86197103e-01j],\n",
       "       [-3.66600407e-01+2.04416369e-01j, -2.01538155e-01-2.01515078e-01j],\n",
       "       [ 1.71544740e-02-2.35706790e-02j,  2.00106059e-01+5.42207747e-01j],\n",
       "       [ 5.38263952e-02-4.40759291e-02j,  2.73287469e-01+2.30013412e-01j],\n",
       "       [ 3.19291373e-01-1.66321226e-01j, -3.13831448e-03+2.36596365e-01j],\n",
       "       [ 3.12683122e-01-1.73423676e-01j,  2.91001875e-02+1.11107915e-01j],\n",
       "       [ 2.86929843e-02+1.79853047e-03j, -1.85699692e-02+1.84576853e-02j],\n",
       "       [-2.01258229e-02+8.51657377e-02j,  2.55484966e-04+2.35069116e-02j],\n",
       "       [ 3.17424279e-01-1.68538940e-01j, -9.66818057e-02+8.89462000e-03j]])"
      ]
     },
     "execution_count": 4,
     "metadata": {},
     "output_type": "execute_result"
    }
   ],
   "source": [
    "mat[\"phi\"]"
   ]
  },
  {
   "cell_type": "markdown",
   "metadata": {},
   "source": [
    "---\n",
    "\n",
    "_AAD: Programlamada üçüncü dersin sonu_\n",
    "\n",
    "---"
   ]
  },
  {
   "cell_type": "code",
   "execution_count": null,
   "metadata": {},
   "outputs": [],
   "source": []
  }
 ],
 "metadata": {
  "kernelspec": {
   "display_name": "Python 3",
   "language": "python",
   "name": "python3"
  },
  "language_info": {
   "codemirror_mode": {
    "name": "ipython",
    "version": 3
   },
   "file_extension": ".py",
   "mimetype": "text/x-python",
   "name": "python",
   "nbconvert_exporter": "python",
   "pygments_lexer": "ipython3",
   "version": "3.7.1"
  }
 },
 "nbformat": 4,
 "nbformat_minor": 2
}
