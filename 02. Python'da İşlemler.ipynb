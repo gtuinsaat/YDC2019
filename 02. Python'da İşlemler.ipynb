{
 "cells": [
  {
   "cell_type": "markdown",
   "metadata": {},
   "source": [
    "# YAPI DİNAMİĞİ ÇALIŞTAYI 2019\n",
    "### İZMİR YÜKSEK TEKNOLOJİ ENSTİTÜSÜ 9-19 EYLÜL 2019\n",
    "#### Hazırlayan : Ahmet Anıl Dindar (adindar@gtu.edu.tr)\n",
    "\n",
    "---"
   ]
  },
  {
   "cell_type": "markdown",
   "metadata": {},
   "source": [
    "## __02. Python'da İşlemler :__ "
   ]
  },
  {
   "cell_type": "markdown",
   "metadata": {},
   "source": [
    "### 02.1- Döngüler\n",
    "Python'da döngüler for, while ile başlar ancak end ile bitmez. \n",
    "\n",
    "Bunun yerine, satırların başlangıçları aynı hizada olacak şekilde girinti (indent) yapılır. "
   ]
  },
  {
   "cell_type": "markdown",
   "metadata": {},
   "source": [
    "#### 02.1.1- For\n",
    "\n",
    "Değişkenlerin sırayla işleme alınması, tekrarlı işlemlere döngü denmektedir. \n",
    "\n",
    "Tipik döngüler, bir dizin içindeki elemanlar üzerinden olmaktadır. \n",
    "\n",
    "Döngüler başladıktan sonra istenen şartların yerine gelmesi halinde sonuna kadar kalmadan tamamlanabilir."
   ]
  },
  {
   "cell_type": "code",
   "execution_count": 95,
   "metadata": {},
   "outputs": [
    {
     "name": "stdout",
     "output_type": "stream",
     "text": [
      "1\n",
      "2\n",
      "3\n",
      "4\n",
      "5\n",
      "6\n",
      "7\n",
      "8\n",
      "9\n",
      "10\n"
     ]
    }
   ],
   "source": [
    "dongu_listesi = [1,2,3,4,5,6,7,8,9,10]\n",
    "\n",
    "for i in dongu_listesi:\n",
    "    print(i)\n"
   ]
  },
  {
   "cell_type": "code",
   "execution_count": 94,
   "metadata": {},
   "outputs": [
    {
     "name": "stdout",
     "output_type": "stream",
     "text": [
      "0 10\n",
      "1 20\n",
      "2 30\n",
      "3 40\n",
      "4 50\n",
      "5 60\n",
      "6 70\n",
      "7 80\n",
      "8 90\n",
      "9 100\n"
     ]
    }
   ],
   "source": [
    "dongu_listesi = [10,20,30,40,50,60,70,80,90,100]\n",
    "\n",
    "for i,j in enumerate( dongu_listesi ) :\n",
    "    print(i,j)\n"
   ]
  },
  {
   "cell_type": "markdown",
   "metadata": {},
   "source": [
    "- Listeleri gelişigüzel oluşturmak istersek Numpy paketini kullanabiliriz."
   ]
  },
  {
   "cell_type": "code",
   "execution_count": 98,
   "metadata": {},
   "outputs": [],
   "source": [
    "import numpy as np\n"
   ]
  },
  {
   "cell_type": "code",
   "execution_count": 100,
   "metadata": {},
   "outputs": [
    {
     "name": "stdout",
     "output_type": "stream",
     "text": [
      "100\n"
     ]
    }
   ],
   "source": [
    "listem = np.random.randn(100)\n",
    "\n",
    "print( len(listem) )"
   ]
  },
  {
   "cell_type": "code",
   "execution_count": 101,
   "metadata": {},
   "outputs": [
    {
     "name": "stdout",
     "output_type": "stream",
     "text": [
      " Acaba rakam ne olacak = 2.5946354585563514\n",
      " Acaba rakam ne olacak = 0.562813458803684\n",
      " Acaba rakam ne olacak = -0.5175005200273235\n",
      " Acaba rakam ne olacak = 2.446327338367576\n",
      " Acaba rakam ne olacak = -0.19370146986827105\n"
     ]
    }
   ],
   "source": [
    "for sayac , eleman in enumerate( listem[:5]):\n",
    "    print(f\" Acaba rakam ne olacak = {eleman}\")"
   ]
  },
  {
   "cell_type": "markdown",
   "metadata": {},
   "source": [
    "#### 02.1.2- While\n",
    "\n",
    "Döngünün belli şartları sağlamasına bağlı olarak sürdürülmesidir."
   ]
  },
  {
   "cell_type": "code",
   "execution_count": 105,
   "metadata": {},
   "outputs": [
    {
     "name": "stdout",
     "output_type": "stream",
     "text": [
      "0.5956945609628893\n",
      "0.7324074141577395\n",
      "0.3163329707001873\n",
      "0.43220461283207534\n",
      "0.6457363233810871\n",
      "0.06597990256407538\n",
      "0.6171589481782578\n",
      "0.49963427465738475\n",
      "0.5196919592121761\n",
      "0.403607057456732\n"
     ]
    }
   ],
   "source": [
    "limit_deger = 10\n",
    "sayac = 0 \n",
    "\n",
    "while sayac < limit_deger : \n",
    "    \n",
    "    print( np.random.rand())\n",
    "    \n",
    "    sayac += 1"
   ]
  },
  {
   "cell_type": "markdown",
   "metadata": {},
   "source": [
    "#### 02.2- Karar verme\n",
    "\n",
    "İşlemler sırasında değişkenlerin istenen şartları sağlaması veya sağlamaması halinde sürecin değişimini sağlar."
   ]
  },
  {
   "cell_type": "code",
   "execution_count": 115,
   "metadata": {},
   "outputs": [
    {
     "name": "stdout",
     "output_type": "stream",
     "text": [
      "20, 10'den büyüktür\n",
      "30\n"
     ]
    }
   ],
   "source": [
    "birinci_veri = 20\n",
    "ikinci_veri = 10\n",
    "\n",
    "if birinci_veri > ikinci_veri:\n",
    "    \n",
    "    print( f\"{birinci_veri}, {ikinci_veri}'den büyüktür\")\n",
    "    \n",
    "    # yeni bir değişken yaratalım\n",
    "    \n",
    "    yeni_veri = birinci_veri + ikinci_veri \n",
    "    \n",
    "    print( yeni_veri)    \n",
    "    "
   ]
  },
  {
   "cell_type": "markdown",
   "metadata": {},
   "source": [
    "* Peki birden fazla karar verme söz konusu olamaz mı?"
   ]
  },
  {
   "cell_type": "code",
   "execution_count": 120,
   "metadata": {},
   "outputs": [
    {
     "name": "stdout",
     "output_type": "stream",
     "text": [
      "50, 10'den büyüktür\n"
     ]
    }
   ],
   "source": [
    "birinci_veri = 50\n",
    "ikinci_veri = 10\n",
    "ucuncu_veri = 40\n",
    "\n",
    "if birinci_veri > ikinci_veri:\n",
    "    \n",
    "    print( f\"{birinci_veri}, {ikinci_veri}'den büyüktür\")\n",
    "    \n",
    "elif birinci_veri > ucuncu_veri:\n",
    "    \n",
    "    print( f\"{birinci_veri}, {ucuncu_veri}'den büyüktür\")\n",
    "    "
   ]
  },
  {
   "cell_type": "markdown",
   "metadata": {},
   "source": [
    "- Peki birden fazla durum söz konusu olamaz mı?"
   ]
  },
  {
   "cell_type": "code",
   "execution_count": 125,
   "metadata": {},
   "outputs": [
    {
     "name": "stdout",
     "output_type": "stream",
     "text": [
      "50, 60'den küçük ve 40'den büyüktür\n"
     ]
    }
   ],
   "source": [
    "birinci_veri , ikinci_veri , ucuncu_veri = 50, 60 , 40\n",
    "\n",
    "if birinci_veri > ikinci_veri:\n",
    "    \n",
    "    print( f\"{birinci_veri}, {ikinci_veri}'den büyüktür\")\n",
    "    \n",
    "elif  birinci_veri < ikinci_veri and birinci_veri > ucuncu_veri:\n",
    "    \n",
    "    print( f\"{birinci_veri}, {ikinci_veri}'den küçük ve {ucuncu_veri}'den büyüktür\")\n",
    "    "
   ]
  },
  {
   "cell_type": "markdown",
   "metadata": {},
   "source": [
    "---"
   ]
  },
  {
   "cell_type": "markdown",
   "metadata": {},
   "source": [
    "<img src=\"./resimler/10min.jpg\">\n",
    "---\n",
    "\n",
    "**UFAK BİR HEYECAN YAŞAYALIM :**\n",
    "\n",
    "_PROBLEM :_ Kendi belirlediğiniz bir dizindeki rakamların verilen iki rakama göre durumlarını belirtecek kodu yazınız. \n",
    "\n",
    "_SÜRE :_ 10dakika\n",
    "\n",
    "_ÖDÜL :_ İlk bitirenle ders çıkışı kahve sohbeti\n"
   ]
  },
  {
   "cell_type": "code",
   "execution_count": 127,
   "metadata": {},
   "outputs": [],
   "source": [
    "# Cevap\n"
   ]
  },
  {
   "cell_type": "markdown",
   "metadata": {},
   "source": [
    "### 02.3- Matematik\n",
    "\n",
    "Bilimsel ve mühendislik çalışmalarında, değişkenler ve dizinler üzerinde matematik işlemleri yapılmaktadır. Temel olarak dört işlem, ileri seviyede ise integral, türev vb. işlemler olmaktadır. "
   ]
  },
  {
   "cell_type": "markdown",
   "metadata": {},
   "source": [
    "#### 02.3.1- Temel işlemler"
   ]
  },
  {
   "cell_type": "markdown",
   "metadata": {},
   "source": [
    "- Toplama, Çıkarma, Çarpma, Bölme"
   ]
  },
  {
   "cell_type": "code",
   "execution_count": 132,
   "metadata": {},
   "outputs": [
    {
     "name": "stdout",
     "output_type": "stream",
     "text": [
      "100\n",
      "-10\n",
      "2475\n",
      "0.8181818181818182\n"
     ]
    }
   ],
   "source": [
    "ali , veli = 45 , 55\n",
    "\n",
    "print ( ali + veli )\n",
    "\n",
    "print ( ali - veli )\n",
    "\n",
    "print ( ali * veli )\n",
    "\n",
    "print ( ali / veli )\n"
   ]
  },
  {
   "cell_type": "markdown",
   "metadata": {},
   "source": [
    "- Üssel ifadesi"
   ]
  },
  {
   "cell_type": "code",
   "execution_count": 135,
   "metadata": {},
   "outputs": [
    {
     "name": "stdout",
     "output_type": "stream",
     "text": [
      "2025\n",
      "2025\n"
     ]
    }
   ],
   "source": [
    "print( ali * ali )\n",
    "\n",
    "print( ali ** 2 )\n"
   ]
  },
  {
   "cell_type": "markdown",
   "metadata": {},
   "source": [
    "- Yuvarlama : _Numpy nerede karşımıza çıkacak diyorduk :)_"
   ]
  },
  {
   "cell_type": "code",
   "execution_count": 138,
   "metadata": {},
   "outputs": [
    {
     "name": "stdout",
     "output_type": "stream",
     "text": [
      "1.0\n",
      "2.0\n"
     ]
    }
   ],
   "source": [
    "print( np.floor( 1.4 ))\n",
    "\n",
    "print( np.ceil( 1.4 ))"
   ]
  },
  {
   "cell_type": "markdown",
   "metadata": {},
   "source": [
    "- Ondalık yuvarlama"
   ]
  },
  {
   "cell_type": "code",
   "execution_count": 142,
   "metadata": {},
   "outputs": [
    {
     "data": {
      "text/plain": [
       "1.23"
      ]
     },
     "execution_count": 142,
     "metadata": {},
     "output_type": "execute_result"
    }
   ],
   "source": [
    "round( 1.23456 , 2)"
   ]
  },
  {
   "cell_type": "code",
   "execution_count": 140,
   "metadata": {},
   "outputs": [
    {
     "data": {
      "text/plain": [
       "1.23"
      ]
     },
     "execution_count": 140,
     "metadata": {},
     "output_type": "execute_result"
    }
   ],
   "source": [
    "np.round( 1.23456 , 2)"
   ]
  },
  {
   "cell_type": "markdown",
   "metadata": {},
   "source": [
    "#### 02.3.2- İleri işlemler"
   ]
  },
  {
   "cell_type": "markdown",
   "metadata": {},
   "source": [
    "- Integral"
   ]
  },
  {
   "cell_type": "code",
   "execution_count": 177,
   "metadata": {},
   "outputs": [
    {
     "name": "stdout",
     "output_type": "stream",
     "text": [
      "82.5\n"
     ]
    }
   ],
   "source": [
    "from numpy import random\n",
    "\n",
    "listem = [11,22,33,44] \n",
    "\n",
    "from scipy import integrate\n",
    "\n",
    "print( integrate.trapz( listem))\n"
   ]
  },
  {
   "cell_type": "markdown",
   "metadata": {},
   "source": [
    "- Yığışımlı Integral"
   ]
  },
  {
   "cell_type": "code",
   "execution_count": 176,
   "metadata": {},
   "outputs": [
    {
     "name": "stdout",
     "output_type": "stream",
     "text": [
      "[16.5 44.  82.5]\n"
     ]
    }
   ],
   "source": [
    "from numpy import random\n",
    "\n",
    "listem = [11,22,33,44] \n",
    "\n",
    "from scipy import integrate\n",
    "\n",
    "print( integrate.cumtrapz( listem))\n"
   ]
  },
  {
   "cell_type": "markdown",
   "metadata": {},
   "source": [
    "- Farklar"
   ]
  },
  {
   "cell_type": "code",
   "execution_count": 191,
   "metadata": {},
   "outputs": [
    {
     "name": "stdout",
     "output_type": "stream",
     "text": [
      "[-18   2  -1  95]\n"
     ]
    }
   ],
   "source": [
    "listem = [21 , 3 , 5 , 4, 99]\n",
    "\n",
    "import numpy as np\n",
    "\n",
    "print ( np.diff( listem ) )\n"
   ]
  },
  {
   "cell_type": "markdown",
   "metadata": {},
   "source": [
    "#### 02.4 Fonksiyonlar\n",
    "\n",
    "İşlemler dizisini bir tanım altına almaktır. \n",
    "\n",
    "Pratik olarak bilimsel çalışmalarda, üretilen tüm algoritmaların bir fonksiyon haline getirilmesi stratejisi önerilmektedir. "
   ]
  },
  {
   "cell_type": "code",
   "execution_count": 193,
   "metadata": {},
   "outputs": [],
   "source": [
    "def eleman_secimi( liste_verilen , eleman_secilen):\n",
    "    \n",
    "    secelim = liste_verilen[ eleman_secilen]\n",
    "    \n",
    "    return(secelim)"
   ]
  },
  {
   "cell_type": "code",
   "execution_count": 194,
   "metadata": {},
   "outputs": [
    {
     "name": "stdout",
     "output_type": "stream",
     "text": [
      "4\n"
     ]
    }
   ],
   "source": [
    "bunebe = eleman_secimi( [1,\"a\",3,4,\"he\"] , 3 )\n",
    "\n",
    "print( bunebe)"
   ]
  },
  {
   "cell_type": "markdown",
   "metadata": {},
   "source": [
    "<img src=\"./resimler/1-basit_kiriş.png\"> \n"
   ]
  },
  {
   "cell_type": "code",
   "execution_count": 199,
   "metadata": {},
   "outputs": [
    {
     "data": {
      "text/plain": [
       "25.0"
      ]
     },
     "execution_count": 199,
     "metadata": {},
     "output_type": "execute_result"
    }
   ],
   "source": [
    "def basit_kiris( q , L):\n",
    "    \n",
    "    W =  ( q * L)\n",
    "    \n",
    "    v = 0.5 * W\n",
    "    \n",
    "    return( v)\n",
    "\n",
    "basit_kiris( 10 , 5 )"
   ]
  },
  {
   "cell_type": "markdown",
   "metadata": {},
   "source": [
    "---\n",
    "<img src=\"./resimler/2-basit_kiriş_yamuk_yuk.png\">\n",
    "\n",
    "**UFAK BİR HEYECAN YAŞAYALIM :**\n",
    "\n",
    "_PROBLEM :_ Verilen sistemin mesnet reaksiyonlarını hesaplayan fonksiyonu yazınız. \n",
    "\n",
    "_SÜRE :_ 10dakika\n",
    "\n",
    "_ÖDÜL :_ İlk bitirenle ders çıkışı kahve + tatlı sohbeti\n"
   ]
  },
  {
   "cell_type": "markdown",
   "metadata": {},
   "source": [
    "#### 02.5 Fonksiyoneller\n",
    "\n",
    "İçiçe geçmiş fonksiyonlardır."
   ]
  },
  {
   "cell_type": "code",
   "execution_count": 210,
   "metadata": {},
   "outputs": [
    {
     "name": "stdout",
     "output_type": "stream",
     "text": [
      "2.0771\n"
     ]
    }
   ],
   "source": [
    "def bolme_islemi( a , b ):\n",
    "    return( yuvarlama_programi(  a / b)) \n",
    "\n",
    "def yuvarlama_programi( a ) :\n",
    "    return( round(a , 4) )\n",
    "\n",
    "print( bolme_islemi(9 , 4.333) )\n"
   ]
  },
  {
   "cell_type": "markdown",
   "metadata": {},
   "source": [
    "---\n",
    "<img src=\"./resimler/3-basit_kiriş_yamuk_yuk.png\">\n",
    "\n",
    "**UFAK BİR HEYECAN YAŞAYALIM :**\n",
    "\n",
    "_PROBLEM :_ Verilen sistemde yükün değiştiği kesitlerdeki en büyük normal gerilmeyi hesaplayan programı geliştiriniz. \n",
    "\n",
    "_HATIRLATMA :_ $\\sigma_n = \\frac{M\\times y}{I} $\n",
    "\n",
    "_SÜRE :_ 20 dakika\n",
    "\n",
    "_ÖDÜL :_ İlk bitirenle ders çıkışı kahve + tatlı sohbeti\n"
   ]
  },
  {
   "cell_type": "markdown",
   "metadata": {},
   "source": [
    "#### 02.6 Matrisler\n",
    "Python, MATLAB gibi değildir. Değişkenleri bir Matris gibi düşünmez. \n",
    "\n",
    "Bu sebeple MATLAB'de alışılan yaklaşım ve notasyondan farklı bir durum vardır. \n",
    "\n",
    "Her ne kadar Numpy içinde \"matrix\" diye bir sınıf bulunuyor olsa da gelecekte iptal edilecektir. \n",
    "\n",
    "Bundan dolayı, numpy içindeki \"array\" sınıfını kullanmayı önermekteyiz. "
   ]
  },
  {
   "cell_type": "markdown",
   "metadata": {},
   "source": [
    "#### 02.6.1 Çok boyutlu dizin = Matris işlemleri :)\n",
    "\n",
    "Her ne kadar matematiksel olarak matris olsa da terminolojik olarak çok boyutlu dizin denmektedir. "
   ]
  },
  {
   "cell_type": "markdown",
   "metadata": {},
   "source": [
    "- Matris yaratma"
   ]
  },
  {
   "cell_type": "code",
   "execution_count": 5,
   "metadata": {},
   "outputs": [
    {
     "name": "stdout",
     "output_type": "stream",
     "text": [
      "[[1 2]]\n"
     ]
    }
   ],
   "source": [
    "import numpy as np\n",
    "\n",
    "matris_1d = np.array([[1,2]])\n",
    "\n",
    "print( matris_1d )"
   ]
  },
  {
   "cell_type": "code",
   "execution_count": 36,
   "metadata": {},
   "outputs": [
    {
     "name": "stdout",
     "output_type": "stream",
     "text": [
      "[[1 2]\n",
      " [3 4]]\n"
     ]
    }
   ],
   "source": [
    "import numpy as np\n",
    "\n",
    "matris_2d = np.array([[1,2] , [3,4]])\n",
    "\n",
    "print( matris_2d )\n"
   ]
  },
  {
   "cell_type": "markdown",
   "metadata": {},
   "source": [
    "- Belirli matris yaratma"
   ]
  },
  {
   "cell_type": "code",
   "execution_count": 31,
   "metadata": {},
   "outputs": [
    {
     "name": "stdout",
     "output_type": "stream",
     "text": [
      "[0 1 2 3 4 5 6 7 8 9]\n"
     ]
    }
   ],
   "source": [
    "matris_1d_range = np.arange( 10 )\n",
    "\n",
    "print( matris_1d_range)\n"
   ]
  },
  {
   "cell_type": "code",
   "execution_count": 58,
   "metadata": {},
   "outputs": [
    {
     "name": "stdout",
     "output_type": "stream",
     "text": [
      "[0. 0. 0. 0. 0.]\n"
     ]
    }
   ],
   "source": [
    "matris_sifirlar = np.zeros(5)\n",
    "\n",
    "print( matris_sifirlar)\n"
   ]
  },
  {
   "cell_type": "code",
   "execution_count": 43,
   "metadata": {},
   "outputs": [
    {
     "name": "stdout",
     "output_type": "stream",
     "text": [
      "[1. 1. 1. 1. 1.]\n"
     ]
    }
   ],
   "source": [
    "matris_birler = np.ones(5)\n",
    "\n",
    "print( matris_birler)\n"
   ]
  },
  {
   "cell_type": "markdown",
   "metadata": {},
   "source": [
    "_Siz cevaplayın_"
   ]
  },
  {
   "cell_type": "code",
   "execution_count": 46,
   "metadata": {},
   "outputs": [
    {
     "name": "stdout",
     "output_type": "stream",
     "text": [
      "[2. 2. 2. 2. 2.]\n"
     ]
    }
   ],
   "source": [
    "matris_ikiler = ????????\n",
    "\n",
    "print( matris_ikiler)\n"
   ]
  },
  {
   "cell_type": "markdown",
   "metadata": {},
   "source": [
    "- Birim Matris yaratımı"
   ]
  },
  {
   "cell_type": "code",
   "execution_count": 80,
   "metadata": {},
   "outputs": [
    {
     "name": "stdout",
     "output_type": "stream",
     "text": [
      "[[1. 0. 0.]\n",
      " [0. 1. 0.]\n",
      " [0. 0. 1.]]\n"
     ]
    }
   ],
   "source": [
    "matris_birim = np.eye(3)\n",
    "\n",
    "print(matris_birim)"
   ]
  },
  {
   "cell_type": "markdown",
   "metadata": {},
   "source": [
    "- Köşegen Matris Yaratımı"
   ]
  },
  {
   "cell_type": "code",
   "execution_count": 83,
   "metadata": {},
   "outputs": [
    {
     "name": "stdout",
     "output_type": "stream",
     "text": [
      "[[1 0 0 0]\n",
      " [0 2 0 0]\n",
      " [0 0 3 0]\n",
      " [0 0 0 4]]\n"
     ]
    }
   ],
   "source": [
    "matris_diagonal = np.diag([1,2,3,4])\n",
    "\n",
    "print( matris_diagonal)"
   ]
  },
  {
   "cell_type": "markdown",
   "metadata": {},
   "source": [
    "- Yeniden dizme"
   ]
  },
  {
   "cell_type": "code",
   "execution_count": 33,
   "metadata": {},
   "outputs": [
    {
     "name": "stdout",
     "output_type": "stream",
     "text": [
      "[[0 1]\n",
      " [2 3]\n",
      " [4 5]\n",
      " [6 7]\n",
      " [8 9]]\n"
     ]
    }
   ],
   "source": [
    "matris_1d_range_2boyut = matris_1d_range.reshape(5,2)\n",
    "\n",
    "print( matris_1d_range_2boyut)\n"
   ]
  },
  {
   "cell_type": "markdown",
   "metadata": {},
   "source": [
    "- Matris boyutlarının gösterimi"
   ]
  },
  {
   "cell_type": "code",
   "execution_count": 40,
   "metadata": {},
   "outputs": [
    {
     "data": {
      "text/plain": [
       "(5, 2)"
      ]
     },
     "execution_count": 40,
     "metadata": {},
     "output_type": "execute_result"
    }
   ],
   "source": [
    "matris_1d_range_2boyut.shape "
   ]
  },
  {
   "cell_type": "markdown",
   "metadata": {},
   "source": [
    "- Eleman sayısını gösterme"
   ]
  },
  {
   "cell_type": "code",
   "execution_count": 41,
   "metadata": {},
   "outputs": [
    {
     "data": {
      "text/plain": [
       "10"
      ]
     },
     "execution_count": 41,
     "metadata": {},
     "output_type": "execute_result"
    }
   ],
   "source": [
    "matris_1d_range_2boyut.size"
   ]
  },
  {
   "cell_type": "markdown",
   "metadata": {},
   "source": [
    "#### 02.6.2 Matris Erişim"
   ]
  },
  {
   "cell_type": "markdown",
   "metadata": {},
   "source": [
    "- Bir boyutlu matris erişim"
   ]
  },
  {
   "cell_type": "code",
   "execution_count": 47,
   "metadata": {},
   "outputs": [],
   "source": [
    "matrisim = np.arange(1,100,10)"
   ]
  },
  {
   "cell_type": "code",
   "execution_count": 49,
   "metadata": {},
   "outputs": [
    {
     "data": {
      "text/plain": [
       "array([ 1, 11, 21, 31, 41, 51, 61, 71, 81, 91])"
      ]
     },
     "execution_count": 49,
     "metadata": {},
     "output_type": "execute_result"
    }
   ],
   "source": [
    "matrisim[:]"
   ]
  },
  {
   "cell_type": "code",
   "execution_count": 50,
   "metadata": {},
   "outputs": [
    {
     "data": {
      "text/plain": [
       "11"
      ]
     },
     "execution_count": 50,
     "metadata": {},
     "output_type": "execute_result"
    }
   ],
   "source": [
    "matrisim[1]"
   ]
  },
  {
   "cell_type": "markdown",
   "metadata": {},
   "source": [
    "- İki boyutlu matris erişim"
   ]
  },
  {
   "cell_type": "code",
   "execution_count": 57,
   "metadata": {},
   "outputs": [
    {
     "name": "stdout",
     "output_type": "stream",
     "text": [
      "[[1 3 5]\n",
      " [2 4 6]\n",
      " [3 5 7]]\n"
     ]
    }
   ],
   "source": [
    "matrisim_2b = np.array([[1,3,5] , [2,4,6] , [3,5,7]])\n",
    "\n",
    "print( matrisim_2b)\n"
   ]
  },
  {
   "cell_type": "code",
   "execution_count": 55,
   "metadata": {},
   "outputs": [
    {
     "data": {
      "text/plain": [
       "array([1, 2, 3])"
      ]
     },
     "execution_count": 55,
     "metadata": {},
     "output_type": "execute_result"
    }
   ],
   "source": [
    "matrisim_2b[:,0]"
   ]
  },
  {
   "cell_type": "code",
   "execution_count": 56,
   "metadata": {},
   "outputs": [
    {
     "data": {
      "text/plain": [
       "array([3, 4])"
      ]
     },
     "execution_count": 56,
     "metadata": {},
     "output_type": "execute_result"
    }
   ],
   "source": [
    "matrisim_2b[:2  , 1 ]"
   ]
  },
  {
   "cell_type": "markdown",
   "metadata": {},
   "source": [
    "- Matris güncelleme"
   ]
  },
  {
   "cell_type": "code",
   "execution_count": 59,
   "metadata": {},
   "outputs": [
    {
     "name": "stdout",
     "output_type": "stream",
     "text": [
      "[[  1   3   5]\n",
      " [  2 100   6]\n",
      " [  3   5   7]]\n"
     ]
    }
   ],
   "source": [
    "matrisim_2b[1,1] = 100\n",
    "print(matrisim_2b)"
   ]
  },
  {
   "cell_type": "markdown",
   "metadata": {},
   "source": [
    "#### 02.6.3 Matris Lineer Cebir İşlemleri"
   ]
  },
  {
   "cell_type": "markdown",
   "metadata": {},
   "source": [
    "- Transpoze alma"
   ]
  },
  {
   "cell_type": "code",
   "execution_count": 68,
   "metadata": {},
   "outputs": [
    {
     "data": {
      "text/plain": [
       "array([[  1,   2,   3],\n",
       "       [  3, 100,   5],\n",
       "       [  5,   6,   7]])"
      ]
     },
     "execution_count": 68,
     "metadata": {},
     "output_type": "execute_result"
    }
   ],
   "source": [
    "matrisim_2b.transpose()"
   ]
  },
  {
   "cell_type": "markdown",
   "metadata": {},
   "source": [
    "- Tersini alma"
   ]
  },
  {
   "cell_type": "code",
   "execution_count": 70,
   "metadata": {},
   "outputs": [
    {
     "data": {
      "text/plain": [
       "array([[-0.87239583, -0.00520833,  0.62760417],\n",
       "       [-0.00520833,  0.01041667, -0.00520833],\n",
       "       [ 0.37760417, -0.00520833, -0.12239583]])"
      ]
     },
     "execution_count": 70,
     "metadata": {},
     "output_type": "execute_result"
    }
   ],
   "source": [
    "np.linalg.inv( matrisim_2b )"
   ]
  },
  {
   "cell_type": "markdown",
   "metadata": {},
   "source": [
    "- Toplama İşlemi"
   ]
  },
  {
   "cell_type": "code",
   "execution_count": 86,
   "metadata": {},
   "outputs": [
    {
     "name": "stdout",
     "output_type": "stream",
     "text": [
      "[[ 6 13]\n",
      " [ 2 17]]\n"
     ]
    }
   ],
   "source": [
    "birinci_matris = np.array([[1,9] , [0,10]])\n",
    "ikinci_matris = np.array([[5,4] , [2,7]])\n",
    "\n",
    "sonuc = np.add( birinci_matris , ikinci_matris )\n",
    "\n",
    "print( sonuc)\n"
   ]
  },
  {
   "cell_type": "markdown",
   "metadata": {},
   "source": [
    "- Çıkarma İşlemi"
   ]
  },
  {
   "cell_type": "code",
   "execution_count": 85,
   "metadata": {},
   "outputs": [
    {
     "name": "stdout",
     "output_type": "stream",
     "text": [
      "[[-4  5]\n",
      " [-2  3]]\n"
     ]
    }
   ],
   "source": [
    "birinci_matris = np.array([[1,9] , [0,10]])\n",
    "ikinci_matris = np.array([[5,4] , [2,7]])\n",
    "\n",
    "sonuc = np.subtract(birinci_matris , ikinci_matris)\n",
    "\n",
    "print( sonuc)\n"
   ]
  },
  {
   "cell_type": "markdown",
   "metadata": {},
   "source": [
    "- Çarpma İşlemi\n"
   ]
  },
  {
   "cell_type": "code",
   "execution_count": 88,
   "metadata": {},
   "outputs": [
    {
     "name": "stdout",
     "output_type": "stream",
     "text": [
      "[[ 5 36]\n",
      " [ 0 70]]\n"
     ]
    }
   ],
   "source": [
    "birinci_matris = np.array([[1,9] , [0,10]])\n",
    "ikinci_matris = np.array([[5,4] , [2,7]])\n",
    "\n",
    "sonuc = np.multiply(birinci_matris , ikinci_matris )\n",
    "\n",
    "print( sonuc)\n"
   ]
  },
  {
   "cell_type": "markdown",
   "metadata": {},
   "source": [
    "- Bölme İşlemi\n"
   ]
  },
  {
   "cell_type": "code",
   "execution_count": 89,
   "metadata": {},
   "outputs": [
    {
     "name": "stdout",
     "output_type": "stream",
     "text": [
      "[[0.2        2.25      ]\n",
      " [0.         1.42857143]]\n"
     ]
    }
   ],
   "source": [
    "birinci_matris = np.array([[1,9] , [0,10]])\n",
    "ikinci_matris = np.array([[5,4] , [2,7]])\n",
    "\n",
    "sonuc = np.divide(birinci_matris , ikinci_matris )\n",
    "\n",
    "print( sonuc)\n"
   ]
  },
  {
   "cell_type": "markdown",
   "metadata": {},
   "source": [
    "- Matris çarpım işlemi"
   ]
  },
  {
   "cell_type": "code",
   "execution_count": 81,
   "metadata": {},
   "outputs": [
    {
     "name": "stdout",
     "output_type": "stream",
     "text": [
      "[[23 67]\n",
      " [20 70]]\n"
     ]
    }
   ],
   "source": [
    "birinci_matris = np.array([[1,9] , [0,10]])\n",
    "ikinci_matris = np.array([[5,4] , [2,7]])\n",
    "\n",
    "sonuc = np.dot(birinci_matris , ikinci_matris)\n",
    "\n",
    "print( sonuc)\n"
   ]
  },
  {
   "cell_type": "markdown",
   "metadata": {},
   "source": [
    "- Bölme İşlemi"
   ]
  },
  {
   "cell_type": "code",
   "execution_count": 82,
   "metadata": {},
   "outputs": [
    {
     "name": "stdout",
     "output_type": "stream",
     "text": [
      "[[0.2        2.25      ]\n",
      " [0.         1.42857143]]\n"
     ]
    }
   ],
   "source": [
    "birinci_matris = np.array([[1,9] , [0,10]])\n",
    "ikinci_matris = np.array([[5,4] , [2,7]])\n",
    "\n",
    "sonuc = np.divide(birinci_matris , ikinci_matris)\n",
    "\n",
    "print( sonuc)\n"
   ]
  },
  {
   "cell_type": "markdown",
   "metadata": {},
   "source": [
    "- Determinant"
   ]
  },
  {
   "cell_type": "code",
   "execution_count": 94,
   "metadata": {},
   "outputs": [
    {
     "data": {
      "text/plain": [
       "88.00000000000003"
      ]
     },
     "execution_count": 94,
     "metadata": {},
     "output_type": "execute_result"
    }
   ],
   "source": [
    "matrisim =  np.array([[1,2,3,4],\n",
    "                      [10,11,12,2],\n",
    "                      [3,4,5,6],\n",
    "                      [2,1,4,5]])\n",
    "\n",
    "np.linalg.det( matrisim )"
   ]
  },
  {
   "cell_type": "markdown",
   "metadata": {},
   "source": [
    "### 02.7- İstatistik"
   ]
  },
  {
   "cell_type": "markdown",
   "metadata": {},
   "source": [
    "#### 02.7.1- Temel istatistikler "
   ]
  },
  {
   "cell_type": "markdown",
   "metadata": {},
   "source": [
    "- En büyük, küçük"
   ]
  },
  {
   "cell_type": "code",
   "execution_count": 104,
   "metadata": {},
   "outputs": [
    {
     "name": "stdout",
     "output_type": "stream",
     "text": [
      "12\n",
      "1\n"
     ]
    }
   ],
   "source": [
    "matrisim =  np.array([[1,2,3,4],\n",
    "                      [10,11,12,2],\n",
    "                      [3,4,5,6],\n",
    "                      [2,1,4,5]])\n",
    "\n",
    "print( matrisim.max() ) \n",
    "print( matrisim.min() ) "
   ]
  },
  {
   "cell_type": "markdown",
   "metadata": {},
   "source": [
    "- Ortalama değer ve Standart Sapma"
   ]
  },
  {
   "cell_type": "code",
   "execution_count": 103,
   "metadata": {},
   "outputs": [
    {
     "name": "stdout",
     "output_type": "stream",
     "text": [
      "2.5\n",
      "1.118033988749895\n"
     ]
    }
   ],
   "source": [
    "matrisim =  np.array([[1,2,3,4],\n",
    "                      [10,11,12,2],\n",
    "                      [3,4,5,6],\n",
    "                      [2,1,4,5]])\n",
    "\n",
    "print( matrisim[0,:].mean() )\n",
    "\n",
    "print( matrisim[0,:].std() )\n"
   ]
  },
  {
   "cell_type": "markdown",
   "metadata": {},
   "source": [
    "---\n",
    "\n",
    "_AAD: Programlamada ikinci dersin sonu_\n",
    "\n",
    "---"
   ]
  }
 ],
 "metadata": {
  "kernelspec": {
   "display_name": "Python 3",
   "language": "python",
   "name": "python3"
  },
  "language_info": {
   "codemirror_mode": {
    "name": "ipython",
    "version": 3
   },
   "file_extension": ".py",
   "mimetype": "text/x-python",
   "name": "python",
   "nbconvert_exporter": "python",
   "pygments_lexer": "ipython3",
   "version": "3.7.1"
  }
 },
 "nbformat": 4,
 "nbformat_minor": 2
}
